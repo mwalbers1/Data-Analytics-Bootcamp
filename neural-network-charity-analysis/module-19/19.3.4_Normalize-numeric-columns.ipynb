{
 "cells": [
  {
   "cell_type": "markdown",
   "id": "a8f3687b-9e88-4c04-ac2c-3617aefdfff3",
   "metadata": {},
   "source": [
    "## 19.3.4 Normalize numeric columns\n",
    "- Raw data often has outliers or extreme values that can artificially inflate a variable's importance.\n",
    "- Numerical data can be measured using different units across a dataset—such as time versus temperature, or length versus volume.\n",
    "- The distribution of a variable can be skewed, leading to misinterpretation of the central tendency.\n"
   ]
  },
  {
   "cell_type": "code",
   "execution_count": 1,
   "id": "70fae8f9-e574-4382-bd20-db9954a38092",
   "metadata": {},
   "outputs": [
    {
     "data": {
      "text/html": [
       "<div>\n",
       "<style scoped>\n",
       "    .dataframe tbody tr th:only-of-type {\n",
       "        vertical-align: middle;\n",
       "    }\n",
       "\n",
       "    .dataframe tbody tr th {\n",
       "        vertical-align: top;\n",
       "    }\n",
       "\n",
       "    .dataframe thead th {\n",
       "        text-align: right;\n",
       "    }\n",
       "</style>\n",
       "<table border=\"1\" class=\"dataframe\">\n",
       "  <thead>\n",
       "    <tr style=\"text-align: right;\">\n",
       "      <th></th>\n",
       "      <th>Satisfaction_Level</th>\n",
       "      <th>Num_Projects</th>\n",
       "      <th>Time_Spent</th>\n",
       "      <th>Num_Promotions</th>\n",
       "    </tr>\n",
       "  </thead>\n",
       "  <tbody>\n",
       "    <tr>\n",
       "      <th>0</th>\n",
       "      <td>0.30</td>\n",
       "      <td>1</td>\n",
       "      <td>253</td>\n",
       "      <td>2</td>\n",
       "    </tr>\n",
       "    <tr>\n",
       "      <th>1</th>\n",
       "      <td>0.25</td>\n",
       "      <td>1</td>\n",
       "      <td>200</td>\n",
       "      <td>0</td>\n",
       "    </tr>\n",
       "    <tr>\n",
       "      <th>2</th>\n",
       "      <td>0.90</td>\n",
       "      <td>4</td>\n",
       "      <td>2880</td>\n",
       "      <td>5</td>\n",
       "    </tr>\n",
       "    <tr>\n",
       "      <th>3</th>\n",
       "      <td>0.65</td>\n",
       "      <td>3</td>\n",
       "      <td>1450</td>\n",
       "      <td>3</td>\n",
       "    </tr>\n",
       "    <tr>\n",
       "      <th>4</th>\n",
       "      <td>0.50</td>\n",
       "      <td>2</td>\n",
       "      <td>785</td>\n",
       "      <td>2</td>\n",
       "    </tr>\n",
       "  </tbody>\n",
       "</table>\n",
       "</div>"
      ],
      "text/plain": [
       "   Satisfaction_Level  Num_Projects  Time_Spent  Num_Promotions\n",
       "0                0.30             1         253               2\n",
       "1                0.25             1         200               0\n",
       "2                0.90             4        2880               5\n",
       "3                0.65             3        1450               3\n",
       "4                0.50             2         785               2"
      ]
     },
     "execution_count": 1,
     "metadata": {},
     "output_type": "execute_result"
    }
   ],
   "source": [
    "# Import our dependencies\n",
    "import pandas as pd\n",
    "from sklearn.preprocessing import StandardScaler\n",
    "\n",
    "# Read in our dataset\n",
    "hr_df = pd.read_csv(\"datasets/hr_dataset.csv\")\n",
    "hr_df.head()"
   ]
  },
  {
   "cell_type": "code",
   "execution_count": 2,
   "id": "b1409bf0-d750-4c63-81ca-cfbf1a222d5e",
   "metadata": {},
   "outputs": [],
   "source": [
    "# Create the StandardScaler instance\n",
    "scaler = StandardScaler()"
   ]
  },
  {
   "cell_type": "code",
   "execution_count": 3,
   "id": "d16bab15-9cb7-48e6-830b-e4543dd15e11",
   "metadata": {},
   "outputs": [
    {
     "data": {
      "text/plain": [
       "StandardScaler()"
      ]
     },
     "execution_count": 3,
     "metadata": {},
     "output_type": "execute_result"
    }
   ],
   "source": [
    "# Fit the StandardScaler\n",
    "scaler.fit(hr_df)"
   ]
  },
  {
   "cell_type": "code",
   "execution_count": 4,
   "id": "7410aba3-2028-4a15-993f-fc9dc4ac5663",
   "metadata": {},
   "outputs": [],
   "source": [
    "# Scale the data\n",
    "scaled_data = scaler.transform(hr_df)"
   ]
  },
  {
   "cell_type": "code",
   "execution_count": 5,
   "id": "b19c6e51-731d-4dd6-b0bc-9b3fbbc987b7",
   "metadata": {},
   "outputs": [
    {
     "data": {
      "text/html": [
       "<div>\n",
       "<style scoped>\n",
       "    .dataframe tbody tr th:only-of-type {\n",
       "        vertical-align: middle;\n",
       "    }\n",
       "\n",
       "    .dataframe tbody tr th {\n",
       "        vertical-align: top;\n",
       "    }\n",
       "\n",
       "    .dataframe thead th {\n",
       "        text-align: right;\n",
       "    }\n",
       "</style>\n",
       "<table border=\"1\" class=\"dataframe\">\n",
       "  <thead>\n",
       "    <tr style=\"text-align: right;\">\n",
       "      <th></th>\n",
       "      <th>Satisfaction_Level</th>\n",
       "      <th>Num_Projects</th>\n",
       "      <th>Time_Spent</th>\n",
       "      <th>Num_Promotions</th>\n",
       "    </tr>\n",
       "  </thead>\n",
       "  <tbody>\n",
       "    <tr>\n",
       "      <th>0</th>\n",
       "      <td>-1.303615</td>\n",
       "      <td>-1.162476</td>\n",
       "      <td>-1.049481</td>\n",
       "      <td>-0.558656</td>\n",
       "    </tr>\n",
       "    <tr>\n",
       "      <th>1</th>\n",
       "      <td>-1.512945</td>\n",
       "      <td>-1.162476</td>\n",
       "      <td>-1.094603</td>\n",
       "      <td>-1.804887</td>\n",
       "    </tr>\n",
       "    <tr>\n",
       "      <th>2</th>\n",
       "      <td>1.208335</td>\n",
       "      <td>0.860233</td>\n",
       "      <td>1.187080</td>\n",
       "      <td>1.310692</td>\n",
       "    </tr>\n",
       "    <tr>\n",
       "      <th>3</th>\n",
       "      <td>0.161689</td>\n",
       "      <td>0.185996</td>\n",
       "      <td>-0.030385</td>\n",
       "      <td>0.064460</td>\n",
       "    </tr>\n",
       "    <tr>\n",
       "      <th>4</th>\n",
       "      <td>-0.466299</td>\n",
       "      <td>-0.488240</td>\n",
       "      <td>-0.596549</td>\n",
       "      <td>-0.558656</td>\n",
       "    </tr>\n",
       "  </tbody>\n",
       "</table>\n",
       "</div>"
      ],
      "text/plain": [
       "   Satisfaction_Level  Num_Projects  Time_Spent  Num_Promotions\n",
       "0           -1.303615     -1.162476   -1.049481       -0.558656\n",
       "1           -1.512945     -1.162476   -1.094603       -1.804887\n",
       "2            1.208335      0.860233    1.187080        1.310692\n",
       "3            0.161689      0.185996   -0.030385        0.064460\n",
       "4           -0.466299     -0.488240   -0.596549       -0.558656"
      ]
     },
     "execution_count": 5,
     "metadata": {},
     "output_type": "execute_result"
    }
   ],
   "source": [
    "# Create a DataFrame with the scaled data\n",
    "transformed_scaled_data = pd.DataFrame(scaled_data, columns=hr_df.columns)\n",
    "transformed_scaled_data.head()"
   ]
  },
  {
   "cell_type": "markdown",
   "id": "4c0cc788-37eb-4349-bb57-f5b9c2a13342",
   "metadata": {},
   "source": [
    "All variables have been standardized meaning they have a mean of 0 and a standard deviation of 1. The data is now ready to passed into a neural network."
   ]
  },
  {
   "cell_type": "code",
   "execution_count": null,
   "id": "488e6efe-99b6-4452-9595-b3cfb0a5fa65",
   "metadata": {},
   "outputs": [],
   "source": []
  }
 ],
 "metadata": {
  "kernelspec": {
   "display_name": "Python (mlenv)",
   "language": "python",
   "name": "mlenv"
  },
  "language_info": {
   "codemirror_mode": {
    "name": "ipython",
    "version": 3
   },
   "file_extension": ".py",
   "mimetype": "text/x-python",
   "name": "python",
   "nbconvert_exporter": "python",
   "pygments_lexer": "ipython3",
   "version": "3.7.11"
  }
 },
 "nbformat": 4,
 "nbformat_minor": 5
}
