{
 "cells": [
  {
   "cell_type": "code",
   "execution_count": 1,
   "id": "810dd056-4560-42b7-9ab7-345d011f0f59",
   "metadata": {},
   "outputs": [],
   "source": [
    "# Import our dependencies\n",
    "import pandas as pd\n",
    "import matplotlib as plt\n",
    "from sklearn.datasets import make_blobs\n",
    "import sklearn as skl\n",
    "import tensorflow as tf"
   ]
  },
  {
   "cell_type": "markdown",
   "id": "0a7ae6a1-2eeb-4412-ae39-a0bba03788c1",
   "metadata": {},
   "source": [
    "## Generate and visualize dummy dataset"
   ]
  },
  {
   "cell_type": "code",
   "execution_count": 4,
   "id": "8622f0b0-be63-44a3-9ff4-6228b035603f",
   "metadata": {},
   "outputs": [],
   "source": [
    "# Generate dummy dataset\n",
    "X, y = make_blobs(n_samples=1000, centers=2, n_features=2, random_state=78)\n",
    "\n",
    "# Creating a DataFrame with the dummy data\n",
    "df = pd.DataFrame(X, columns=[\"Feature 1\", \"Feature 2\"])\n",
    "df[\"Target\"] = y"
   ]
  },
  {
   "cell_type": "code",
   "execution_count": 5,
   "id": "f43c12d6-6b19-44a8-84d7-49731f095b45",
   "metadata": {},
   "outputs": [
    {
     "data": {
      "text/plain": [
       "<AxesSubplot:xlabel='Feature 1', ylabel='Feature 2'>"
      ]
     },
     "execution_count": 5,
     "metadata": {},
     "output_type": "execute_result"
    },
    {
     "data": {
      "image/png": "[encoded data removed]",
      "text/plain": [
       "<Figure size 432x288 with 2 Axes>"
      ]
     },
     "metadata": {
      "needs_background": "light"
     },
     "output_type": "display_data"
    }
   ],
   "source": [
    "# Plotting the dummy data\n",
    "df.plot.scatter(x=\"Feature 1\", y=\"Feature 2\", c=\"Target\", colormap=\"winter\")"
   ]
  },
  {
   "cell_type": "markdown",
   "id": "a4ca8b49-0002-4ee1-85fa-5081f0502c06",
   "metadata": {},
   "source": [
    "## Create training and test sets"
   ]
  },
  {
   "cell_type": "code",
   "execution_count": 6,
   "id": "2cc364eb-4c39-4e95-bae7-993e076c9ec4",
   "metadata": {},
   "outputs": [],
   "source": [
    "from sklearn.model_selection import train_test_split\n",
    "X_train, X_test, y_train, y_test = train_test_split(X, y, random_state=78)"
   ]
  },
  {
   "cell_type": "markdown",
   "id": "6ab6c835-c889-49ed-99fc-f9712b0f2955",
   "metadata": {},
   "source": [
    "## Standardize dataset"
   ]
  },
  {
   "cell_type": "code",
   "execution_count": 7,
   "id": "f9f16aa5-6e0a-4028-bd10-ff58f633a258",
   "metadata": {},
   "outputs": [],
   "source": [
    "X_scaler = skl.preprocessing.StandardScaler()\n",
    "\n",
    "# fit the scaler\n",
    "X_scaler.fit(X_train)\n",
    "\n",
    "# scale the data\n",
    "X_train_scaled = X_scaler.transform(X_train)\n",
    "X_test_scaled = X_scaler.transform(X_test)"
   ]
  },
  {
   "cell_type": "markdown",
   "id": "cfdcf22f-4e9d-494e-89a5-c823d02ae5c8",
   "metadata": {},
   "source": [
    "## Create Keras Sequential model"
   ]
  },
  {
   "cell_type": "code",
   "execution_count": 22,
   "id": "6ea71992-f17a-4b10-b14e-4887c57f8f4f",
   "metadata": {},
   "outputs": [],
   "source": [
    "nn_model = tf.keras.models.Sequential()"
   ]
  },
  {
   "cell_type": "code",
   "execution_count": 23,
   "id": "797f8cd4-eaaf-4667-9cf1-be18f5adf40d",
   "metadata": {},
   "outputs": [],
   "source": [
    "# Add our first Dense layer, including the input layer\n",
    "nn_model.add(tf.keras.layers.Dense(units=1, activation=\"relu\", input_dim=2))"
   ]
  },
  {
   "cell_type": "markdown",
   "id": "ae3aa7ef-b8eb-43e7-ac3a-fd3292ef8abe",
   "metadata": {},
   "source": [
    "`Dense` class\n",
    "- The **input_dim** parameter indicates how many inputs will be in the model (in this case two).\n",
    "- The **units** parameter indicates how many neurons we want in the hidden layer (in this case one).\n",
    "- The **activation** parameter indicates which activation function to use. We'll use the ReLU activation function to allow our hidden layer to identify and train on nonlinear relationships in the dataset."
   ]
  },
  {
   "cell_type": "code",
   "execution_count": 24,
   "id": "58a51caf-4f59-4921-bc60-47b2c405210e",
   "metadata": {},
   "outputs": [],
   "source": [
    "# Add the output layer that uses a probability activation function\n",
    "nn_model.add(tf.keras.layers.Dense(units=1, activation=\"sigmoid\"))"
   ]
  },
  {
   "cell_type": "code",
   "execution_count": 25,
   "id": "02b2e249-8325-4164-94e6-e86ea2751821",
   "metadata": {},
   "outputs": [
    {
     "name": "stdout",
     "output_type": "stream",
     "text": [
      "Model: \"sequential_2\"\n",
      "_________________________________________________________________\n",
      " Layer (type)                Output Shape              Param #   \n",
      "=================================================================\n",
      " dense_4 (Dense)             (None, 1)                 3         \n",
      "                                                                 \n",
      " dense_5 (Dense)             (None, 1)                 2         \n",
      "                                                                 \n",
      "=================================================================\n",
      "Total params: 5\n",
      "Trainable params: 5\n",
      "Non-trainable params: 0\n",
      "_________________________________________________________________\n"
     ]
    }
   ],
   "source": [
    "# Check the structure of the Sequential model\n",
    "nn_model.summary()"
   ]
  },
  {
   "cell_type": "code",
   "execution_count": 26,
   "id": "580f2892-8427-49b0-bcd6-d3059b2a3653",
   "metadata": {},
   "outputs": [],
   "source": [
    "# Compile the Sequential model together and customize metrics\n",
    "nn_model.compile(loss=\"binary_crossentropy\", optimizer=\"adam\", metrics=[\"accuracy\"])"
   ]
  },
  {
   "cell_type": "code",
   "execution_count": 27,
   "id": "092c248d-cc97-4969-a3cd-f53ecaaa44e0",
   "metadata": {},
   "outputs": [
    {
     "name": "stdout",
     "output_type": "stream",
     "text": [
      "Epoch 1/200\n",
      "24/24 [==============================] - 0s 1ms/step - loss: 0.4324 - accuracy: 0.9747\n",
      "Epoch 2/200\n",
      "24/24 [==============================] - 0s 1000us/step - loss: 0.4202 - accuracy: 1.0000\n",
      "Epoch 3/200\n",
      "24/24 [==============================] - 0s 870us/step - loss: 0.4085 - accuracy: 1.0000\n",
      "Epoch 4/200\n",
      "24/24 [==============================] - 0s 958us/step - loss: 0.3972 - accuracy: 1.0000\n",
      "Epoch 5/200\n",
      "24/24 [==============================] - 0s 1ms/step - loss: 0.3864 - accuracy: 1.0000\n",
      "Epoch 6/200\n",
      "24/24 [==============================] - 0s 1ms/step - loss: 0.3761 - accuracy: 1.0000\n",
      "Epoch 7/200\n",
      "24/24 [==============================] - 0s 957us/step - loss: 0.3661 - accuracy: 1.0000\n",
      "Epoch 8/200\n",
      "24/24 [==============================] - 0s 1000us/step - loss: 0.3566 - accuracy: 1.0000\n",
      "Epoch 9/200\n",
      "24/24 [==============================] - 0s 1ms/step - loss: 0.3475 - accuracy: 1.0000\n",
      "Epoch 10/200\n",
      "24/24 [==============================] - 0s 913us/step - loss: 0.3387 - accuracy: 1.0000\n",
      "Epoch 11/200\n",
      "24/24 [==============================] - 0s 1ms/step - loss: 0.3303 - accuracy: 1.0000\n",
      "Epoch 12/200\n",
      "24/24 [==============================] - 0s 1ms/step - loss: 0.3223 - accuracy: 1.0000\n",
      "Epoch 13/200\n",
      "24/24 [==============================] - 0s 957us/step - loss: 0.3146 - accuracy: 1.0000\n",
      "Epoch 14/200\n",
      "24/24 [==============================] - 0s 1ms/step - loss: 0.3072 - accuracy: 1.0000\n",
      "Epoch 15/200\n",
      "24/24 [==============================] - 0s 869us/step - loss: 0.3001 - accuracy: 1.0000\n",
      "Epoch 16/200\n",
      "24/24 [==============================] - 0s 1ms/step - loss: 0.2932 - accuracy: 1.0000\n",
      "Epoch 17/200\n",
      "24/24 [==============================] - 0s 957us/step - loss: 0.2866 - accuracy: 1.0000\n",
      "Epoch 18/200\n",
      "24/24 [==============================] - 0s 913us/step - loss: 0.2802 - accuracy: 1.0000\n",
      "Epoch 19/200\n",
      "24/24 [==============================] - 0s 913us/step - loss: 0.2741 - accuracy: 1.0000\n",
      "Epoch 20/200\n",
      "24/24 [==============================] - 0s 913us/step - loss: 0.2681 - accuracy: 1.0000\n",
      "Epoch 21/200\n",
      "24/24 [==============================] - 0s 870us/step - loss: 0.2624 - accuracy: 1.0000\n",
      "Epoch 22/200\n",
      "24/24 [==============================] - 0s 1000us/step - loss: 0.2569 - accuracy: 1.0000\n",
      "Epoch 23/200\n",
      "24/24 [==============================] - 0s 739us/step - loss: 0.2516 - accuracy: 1.0000\n",
      "Epoch 24/200\n",
      "24/24 [==============================] - 0s 1ms/step - loss: 0.2464 - accuracy: 1.0000\n",
      "Epoch 25/200\n",
      "24/24 [==============================] - 0s 956us/step - loss: 0.2413 - accuracy: 1.0000\n",
      "Epoch 26/200\n",
      "24/24 [==============================] - 0s 1ms/step - loss: 0.2365 - accuracy: 1.0000\n",
      "Epoch 27/200\n",
      "24/24 [==============================] - 0s 1ms/step - loss: 0.2318 - accuracy: 1.0000\n",
      "Epoch 28/200\n",
      "24/24 [==============================] - 0s 1ms/step - loss: 0.2272 - accuracy: 1.0000\n",
      "Epoch 29/200\n",
      "24/24 [==============================] - 0s 1ms/step - loss: 0.2228 - accuracy: 1.0000\n",
      "Epoch 30/200\n",
      "24/24 [==============================] - 0s 1ms/step - loss: 0.2184 - accuracy: 1.0000\n",
      "Epoch 31/200\n",
      "24/24 [==============================] - 0s 1ms/step - loss: 0.2142 - accuracy: 1.0000\n",
      "Epoch 32/200\n",
      "24/24 [==============================] - 0s 913us/step - loss: 0.2101 - accuracy: 1.0000\n",
      "Epoch 33/200\n",
      "24/24 [==============================] - 0s 913us/step - loss: 0.2061 - accuracy: 1.0000\n",
      "Epoch 34/200\n",
      "24/24 [==============================] - 0s 913us/step - loss: 0.2023 - accuracy: 1.0000\n",
      "Epoch 35/200\n",
      "24/24 [==============================] - 0s 913us/step - loss: 0.1985 - accuracy: 1.0000\n",
      "Epoch 36/200\n",
      "24/24 [==============================] - 0s 1ms/step - loss: 0.1949 - accuracy: 1.0000\n",
      "Epoch 37/200\n",
      "24/24 [==============================] - 0s 957us/step - loss: 0.1913 - accuracy: 1.0000\n",
      "Epoch 38/200\n",
      "24/24 [==============================] - 0s 913us/step - loss: 0.1878 - accuracy: 1.0000\n",
      "Epoch 39/200\n",
      "24/24 [==============================] - 0s 1ms/step - loss: 0.1844 - accuracy: 1.0000\n",
      "Epoch 40/200\n",
      "24/24 [==============================] - 0s 913us/step - loss: 0.1811 - accuracy: 1.0000\n",
      "Epoch 41/200\n",
      "24/24 [==============================] - 0s 956us/step - loss: 0.1779 - accuracy: 1.0000\n",
      "Epoch 42/200\n",
      "24/24 [==============================] - 0s 783us/step - loss: 0.1747 - accuracy: 1.0000\n",
      "Epoch 43/200\n",
      "24/24 [==============================] - 0s 913us/step - loss: 0.1716 - accuracy: 1.0000\n",
      "Epoch 44/200\n",
      "24/24 [==============================] - 0s 1ms/step - loss: 0.1686 - accuracy: 1.0000\n",
      "Epoch 45/200\n",
      "24/24 [==============================] - 0s 1ms/step - loss: 0.1657 - accuracy: 1.0000\n",
      "Epoch 46/200\n",
      "24/24 [==============================] - 0s 1ms/step - loss: 0.1628 - accuracy: 1.0000\n",
      "Epoch 47/200\n",
      "24/24 [==============================] - 0s 1ms/step - loss: 0.1600 - accuracy: 1.0000\n",
      "Epoch 48/200\n",
      "24/24 [==============================] - 0s 1ms/step - loss: 0.1573 - accuracy: 1.0000\n",
      "Epoch 49/200\n",
      "24/24 [==============================] - 0s 956us/step - loss: 0.1547 - accuracy: 1.0000\n",
      "Epoch 50/200\n",
      "24/24 [==============================] - 0s 1000us/step - loss: 0.1521 - accuracy: 1.0000\n",
      "Epoch 51/200\n",
      "24/24 [==============================] - 0s 1000us/step - loss: 0.1495 - accuracy: 1.0000\n",
      "Epoch 52/200\n",
      "24/24 [==============================] - 0s 913us/step - loss: 0.1470 - accuracy: 1.0000\n",
      "Epoch 53/200\n",
      "24/24 [==============================] - 0s 1ms/step - loss: 0.1446 - accuracy: 1.0000\n",
      "Epoch 54/200\n",
      "24/24 [==============================] - 0s 1ms/step - loss: 0.1422 - accuracy: 1.0000\n",
      "Epoch 55/200\n",
      "24/24 [==============================] - 0s 957us/step - loss: 0.1399 - accuracy: 1.0000\n",
      "Epoch 56/200\n",
      "24/24 [==============================] - 0s 1ms/step - loss: 0.1376 - accuracy: 1.0000\n",
      "Epoch 57/200\n",
      "24/24 [==============================] - 0s 913us/step - loss: 0.1353 - accuracy: 1.0000\n",
      "Epoch 58/200\n",
      "24/24 [==============================] - 0s 956us/step - loss: 0.1331 - accuracy: 1.0000\n",
      "Epoch 59/200\n",
      "24/24 [==============================] - 0s 1ms/step - loss: 0.1310 - accuracy: 1.0000\n",
      "Epoch 60/200\n",
      "24/24 [==============================] - 0s 870us/step - loss: 0.1289 - accuracy: 1.0000\n",
      "Epoch 61/200\n",
      "24/24 [==============================] - 0s 1ms/step - loss: 0.1269 - accuracy: 1.0000\n",
      "Epoch 62/200\n",
      "24/24 [==============================] - 0s 957us/step - loss: 0.1248 - accuracy: 1.0000\n",
      "Epoch 63/200\n",
      "24/24 [==============================] - 0s 1ms/step - loss: 0.1229 - accuracy: 1.0000\n",
      "Epoch 64/200\n",
      "24/24 [==============================] - 0s 1000us/step - loss: 0.1210 - accuracy: 1.0000\n",
      "Epoch 65/200\n",
      "24/24 [==============================] - 0s 1ms/step - loss: 0.1191 - accuracy: 1.0000\n",
      "Epoch 66/200\n",
      "24/24 [==============================] - 0s 1ms/step - loss: 0.1172 - accuracy: 1.0000\n",
      "Epoch 67/200\n",
      "24/24 [==============================] - 0s 1ms/step - loss: 0.1154 - accuracy: 1.0000\n",
      "Epoch 68/200\n",
      "24/24 [==============================] - 0s 1ms/step - loss: 0.1137 - accuracy: 1.0000\n",
      "Epoch 69/200\n",
      "24/24 [==============================] - 0s 1ms/step - loss: 0.1119 - accuracy: 1.0000\n",
      "Epoch 70/200\n",
      "24/24 [==============================] - 0s 1ms/step - loss: 0.1102 - accuracy: 1.0000\n",
      "Epoch 71/200\n",
      "24/24 [==============================] - 0s 956us/step - loss: 0.1085 - accuracy: 1.0000\n",
      "Epoch 72/200\n",
      "24/24 [==============================] - 0s 870us/step - loss: 0.1069 - accuracy: 1.0000\n",
      "Epoch 73/200\n",
      "24/24 [==============================] - 0s 1ms/step - loss: 0.1053 - accuracy: 1.0000\n",
      "Epoch 74/200\n",
      "24/24 [==============================] - 0s 913us/step - loss: 0.1037 - accuracy: 1.0000\n",
      "Epoch 75/200\n",
      "24/24 [==============================] - 0s 956us/step - loss: 0.1022 - accuracy: 1.0000\n",
      "Epoch 76/200\n",
      "24/24 [==============================] - 0s 956us/step - loss: 0.1007 - accuracy: 1.0000\n",
      "Epoch 77/200\n",
      "24/24 [==============================] - 0s 1ms/step - loss: 0.0992 - accuracy: 1.0000\n",
      "Epoch 78/200\n",
      "24/24 [==============================] - 0s 1ms/step - loss: 0.0977 - accuracy: 1.0000\n",
      "Epoch 79/200\n",
      "24/24 [==============================] - 0s 826us/step - loss: 0.0963 - accuracy: 1.0000\n",
      "Epoch 80/200\n",
      "24/24 [==============================] - 0s 783us/step - loss: 0.0949 - accuracy: 1.0000\n",
      "Epoch 81/200\n",
      "24/24 [==============================] - 0s 913us/step - loss: 0.0935 - accuracy: 1.0000\n",
      "Epoch 82/200\n",
      "24/24 [==============================] - 0s 1ms/step - loss: 0.0922 - accuracy: 1.0000\n",
      "Epoch 83/200\n",
      "24/24 [==============================] - 0s 1ms/step - loss: 0.0908 - accuracy: 1.0000\n",
      "Epoch 84/200\n",
      "24/24 [==============================] - 0s 1ms/step - loss: 0.0895 - accuracy: 1.0000\n",
      "Epoch 85/200\n",
      "24/24 [==============================] - 0s 1ms/step - loss: 0.0882 - accuracy: 1.0000\n",
      "Epoch 86/200\n",
      "24/24 [==============================] - 0s 1ms/step - loss: 0.0870 - accuracy: 1.0000\n",
      "Epoch 87/200\n",
      "24/24 [==============================] - 0s 956us/step - loss: 0.0857 - accuracy: 1.0000\n",
      "Epoch 88/200\n",
      "24/24 [==============================] - 0s 1000us/step - loss: 0.0845 - accuracy: 1.0000\n",
      "Epoch 89/200\n",
      "24/24 [==============================] - 0s 913us/step - loss: 0.0833 - accuracy: 1.0000\n",
      "Epoch 90/200\n",
      "24/24 [==============================] - 0s 869us/step - loss: 0.0821 - accuracy: 1.0000\n",
      "Epoch 91/200\n",
      "24/24 [==============================] - 0s 913us/step - loss: 0.0810 - accuracy: 1.0000\n",
      "Epoch 92/200\n",
      "24/24 [==============================] - 0s 957us/step - loss: 0.0799 - accuracy: 1.0000\n",
      "Epoch 93/200\n",
      "24/24 [==============================] - 0s 957us/step - loss: 0.0788 - accuracy: 1.0000\n",
      "Epoch 94/200\n",
      "24/24 [==============================] - 0s 956us/step - loss: 0.0777 - accuracy: 1.0000\n",
      "Epoch 95/200\n",
      "24/24 [==============================] - 0s 957us/step - loss: 0.0766 - accuracy: 1.0000\n",
      "Epoch 96/200\n",
      "24/24 [==============================] - 0s 1ms/step - loss: 0.0755 - accuracy: 1.0000\n",
      "Epoch 97/200\n",
      "24/24 [==============================] - 0s 1000us/step - loss: 0.0745 - accuracy: 1.0000\n",
      "Epoch 98/200\n",
      "24/24 [==============================] - 0s 1ms/step - loss: 0.0735 - accuracy: 1.0000\n",
      "Epoch 99/200\n",
      "24/24 [==============================] - 0s 870us/step - loss: 0.0725 - accuracy: 1.0000\n",
      "Epoch 100/200\n",
      "24/24 [==============================] - 0s 2ms/step - loss: 0.0715 - accuracy: 1.0000\n",
      "Epoch 101/200\n",
      "24/24 [==============================] - 0s 1ms/step - loss: 0.0705 - accuracy: 1.0000\n",
      "Epoch 102/200\n",
      "24/24 [==============================] - 0s 870us/step - loss: 0.0695 - accuracy: 1.0000\n",
      "Epoch 103/200\n",
      "24/24 [==============================] - 0s 1ms/step - loss: 0.0686 - accuracy: 1.0000\n",
      "Epoch 104/200\n",
      "24/24 [==============================] - 0s 1ms/step - loss: 0.0677 - accuracy: 1.0000\n",
      "Epoch 105/200\n",
      "24/24 [==============================] - 0s 870us/step - loss: 0.0668 - accuracy: 1.0000\n",
      "Epoch 106/200\n",
      "24/24 [==============================] - 0s 1ms/step - loss: 0.0659 - accuracy: 1.0000\n",
      "Epoch 107/200\n",
      "24/24 [==============================] - 0s 1ms/step - loss: 0.0650 - accuracy: 1.0000\n",
      "Epoch 108/200\n",
      "24/24 [==============================] - 0s 1ms/step - loss: 0.0642 - accuracy: 1.0000\n",
      "Epoch 109/200\n",
      "24/24 [==============================] - 0s 956us/step - loss: 0.0633 - accuracy: 1.0000\n",
      "Epoch 110/200\n",
      "24/24 [==============================] - 0s 1ms/step - loss: 0.0625 - accuracy: 1.0000\n",
      "Epoch 111/200\n",
      "24/24 [==============================] - 0s 1ms/step - loss: 0.0617 - accuracy: 1.0000\n",
      "Epoch 112/200\n",
      "24/24 [==============================] - 0s 1000us/step - loss: 0.0609 - accuracy: 1.0000\n",
      "Epoch 113/200\n",
      "24/24 [==============================] - 0s 913us/step - loss: 0.0601 - accuracy: 1.0000\n",
      "Epoch 114/200\n",
      "24/24 [==============================] - 0s 1000us/step - loss: 0.0593 - accuracy: 1.0000\n",
      "Epoch 115/200\n",
      "24/24 [==============================] - 0s 1ms/step - loss: 0.0585 - accuracy: 1.0000\n",
      "Epoch 116/200\n",
      "24/24 [==============================] - 0s 913us/step - loss: 0.0577 - accuracy: 1.0000\n",
      "Epoch 117/200\n",
      "24/24 [==============================] - 0s 957us/step - loss: 0.0570 - accuracy: 1.0000\n",
      "Epoch 118/200\n",
      "24/24 [==============================] - 0s 956us/step - loss: 0.0563 - accuracy: 1.0000\n",
      "Epoch 119/200\n",
      "24/24 [==============================] - 0s 1000us/step - loss: 0.0555 - accuracy: 1.0000\n",
      "Epoch 120/200\n",
      "24/24 [==============================] - 0s 1ms/step - loss: 0.0548 - accuracy: 1.0000\n",
      "Epoch 121/200\n",
      "24/24 [==============================] - 0s 1ms/step - loss: 0.0541 - accuracy: 1.0000\n",
      "Epoch 122/200\n",
      "24/24 [==============================] - 0s 1000us/step - loss: 0.0534 - accuracy: 1.0000\n",
      "Epoch 123/200\n",
      "24/24 [==============================] - 0s 913us/step - loss: 0.0528 - accuracy: 1.0000\n",
      "Epoch 124/200\n",
      "24/24 [==============================] - 0s 913us/step - loss: 0.0521 - accuracy: 1.0000\n",
      "Epoch 125/200\n",
      "24/24 [==============================] - 0s 1ms/step - loss: 0.0514 - accuracy: 1.0000\n",
      "Epoch 126/200\n",
      "24/24 [==============================] - 0s 1ms/step - loss: 0.0508 - accuracy: 1.0000\n",
      "Epoch 127/200\n",
      "24/24 [==============================] - 0s 956us/step - loss: 0.0501 - accuracy: 1.0000\n",
      "Epoch 128/200\n",
      "24/24 [==============================] - 0s 913us/step - loss: 0.0495 - accuracy: 1.0000\n",
      "Epoch 129/200\n",
      "24/24 [==============================] - 0s 956us/step - loss: 0.0489 - accuracy: 1.0000\n",
      "Epoch 130/200\n",
      "24/24 [==============================] - 0s 1ms/step - loss: 0.0483 - accuracy: 1.0000\n",
      "Epoch 131/200\n",
      "24/24 [==============================] - 0s 1ms/step - loss: 0.0477 - accuracy: 1.0000\n",
      "Epoch 132/200\n",
      "24/24 [==============================] - 0s 1ms/step - loss: 0.0471 - accuracy: 1.0000\n",
      "Epoch 133/200\n",
      "24/24 [==============================] - 0s 1ms/step - loss: 0.0465 - accuracy: 1.0000\n",
      "Epoch 134/200\n",
      "24/24 [==============================] - 0s 956us/step - loss: 0.0459 - accuracy: 1.0000\n",
      "Epoch 135/200\n",
      "24/24 [==============================] - 0s 1000us/step - loss: 0.0454 - accuracy: 1.0000\n",
      "Epoch 136/200\n",
      "24/24 [==============================] - 0s 1ms/step - loss: 0.0448 - accuracy: 1.0000\n",
      "Epoch 137/200\n",
      "24/24 [==============================] - 0s 1ms/step - loss: 0.0442 - accuracy: 1.0000\n",
      "Epoch 138/200\n",
      "24/24 [==============================] - 0s 1ms/step - loss: 0.0437 - accuracy: 1.0000\n",
      "Epoch 139/200\n",
      "24/24 [==============================] - 0s 869us/step - loss: 0.0432 - accuracy: 1.0000\n",
      "Epoch 140/200\n",
      "24/24 [==============================] - 0s 913us/step - loss: 0.0427 - accuracy: 1.0000\n",
      "Epoch 141/200\n",
      "24/24 [==============================] - 0s 913us/step - loss: 0.0421 - accuracy: 1.0000\n",
      "Epoch 142/200\n",
      "24/24 [==============================] - 0s 869us/step - loss: 0.0416 - accuracy: 1.0000\n",
      "Epoch 143/200\n",
      "24/24 [==============================] - 0s 1ms/step - loss: 0.0411 - accuracy: 1.0000\n",
      "Epoch 144/200\n",
      "24/24 [==============================] - 0s 1ms/step - loss: 0.0406 - accuracy: 1.0000\n",
      "Epoch 145/200\n",
      "24/24 [==============================] - 0s 913us/step - loss: 0.0401 - accuracy: 1.0000\n",
      "Epoch 146/200\n",
      "24/24 [==============================] - 0s 913us/step - loss: 0.0396 - accuracy: 1.0000\n",
      "Epoch 147/200\n",
      "24/24 [==============================] - 0s 913us/step - loss: 0.0392 - accuracy: 1.0000\n",
      "Epoch 148/200\n",
      "24/24 [==============================] - 0s 870us/step - loss: 0.0387 - accuracy: 1.0000\n",
      "Epoch 149/200\n",
      "24/24 [==============================] - 0s 1ms/step - loss: 0.0382 - accuracy: 1.0000\n",
      "Epoch 150/200\n",
      "24/24 [==============================] - 0s 1000us/step - loss: 0.0378 - accuracy: 1.0000\n",
      "Epoch 151/200\n",
      "24/24 [==============================] - 0s 913us/step - loss: 0.0373 - accuracy: 1.0000\n",
      "Epoch 152/200\n",
      "24/24 [==============================] - 0s 1000us/step - loss: 0.0369 - accuracy: 1.0000\n",
      "Epoch 153/200\n",
      "24/24 [==============================] - 0s 913us/step - loss: 0.0364 - accuracy: 1.0000\n",
      "Epoch 154/200\n",
      "24/24 [==============================] - 0s 826us/step - loss: 0.0360 - accuracy: 1.0000\n",
      "Epoch 155/200\n",
      "24/24 [==============================] - 0s 1ms/step - loss: 0.0356 - accuracy: 1.0000\n",
      "Epoch 156/200\n",
      "24/24 [==============================] - 0s 957us/step - loss: 0.0352 - accuracy: 1.0000\n",
      "Epoch 157/200\n",
      "24/24 [==============================] - 0s 1ms/step - loss: 0.0348 - accuracy: 1.0000\n",
      "Epoch 158/200\n",
      "24/24 [==============================] - 0s 1ms/step - loss: 0.0344 - accuracy: 1.0000\n",
      "Epoch 159/200\n",
      "24/24 [==============================] - 0s 1ms/step - loss: 0.0339 - accuracy: 1.0000\n",
      "Epoch 160/200\n",
      "24/24 [==============================] - 0s 957us/step - loss: 0.0336 - accuracy: 1.0000\n",
      "Epoch 161/200\n",
      "24/24 [==============================] - 0s 956us/step - loss: 0.0332 - accuracy: 1.0000\n",
      "Epoch 162/200\n",
      "24/24 [==============================] - 0s 957us/step - loss: 0.0328 - accuracy: 1.0000\n",
      "Epoch 163/200\n",
      "24/24 [==============================] - 0s 826us/step - loss: 0.0324 - accuracy: 1.0000\n",
      "Epoch 164/200\n",
      "24/24 [==============================] - 0s 1ms/step - loss: 0.0320 - accuracy: 1.0000\n",
      "Epoch 165/200\n",
      "24/24 [==============================] - 0s 913us/step - loss: 0.0316 - accuracy: 1.0000\n",
      "Epoch 166/200\n",
      "24/24 [==============================] - 0s 1ms/step - loss: 0.0313 - accuracy: 1.0000\n",
      "Epoch 167/200\n",
      "24/24 [==============================] - 0s 913us/step - loss: 0.0309 - accuracy: 1.0000\n",
      "Epoch 168/200\n",
      "24/24 [==============================] - 0s 1ms/step - loss: 0.0306 - accuracy: 1.0000\n",
      "Epoch 169/200\n",
      "24/24 [==============================] - 0s 870us/step - loss: 0.0302 - accuracy: 1.0000\n",
      "Epoch 170/200\n",
      "24/24 [==============================] - 0s 1ms/step - loss: 0.0298 - accuracy: 1.0000\n",
      "Epoch 171/200\n",
      "24/24 [==============================] - 0s 913us/step - loss: 0.0295 - accuracy: 1.0000\n",
      "Epoch 172/200\n",
      "24/24 [==============================] - 0s 956us/step - loss: 0.0292 - accuracy: 1.0000\n",
      "Epoch 173/200\n",
      "24/24 [==============================] - 0s 870us/step - loss: 0.0288 - accuracy: 1.0000\n",
      "Epoch 174/200\n",
      "24/24 [==============================] - 0s 957us/step - loss: 0.0285 - accuracy: 1.0000\n",
      "Epoch 175/200\n",
      "24/24 [==============================] - 0s 1ms/step - loss: 0.0282 - accuracy: 1.0000\n",
      "Epoch 176/200\n",
      "24/24 [==============================] - 0s 913us/step - loss: 0.0278 - accuracy: 1.0000\n",
      "Epoch 177/200\n",
      "24/24 [==============================] - 0s 1000us/step - loss: 0.0275 - accuracy: 1.0000\n",
      "Epoch 178/200\n",
      "24/24 [==============================] - 0s 913us/step - loss: 0.0272 - accuracy: 1.0000\n",
      "Epoch 179/200\n",
      "24/24 [==============================] - 0s 913us/step - loss: 0.0269 - accuracy: 1.0000\n",
      "Epoch 180/200\n",
      "24/24 [==============================] - 0s 1000us/step - loss: 0.0266 - accuracy: 1.0000\n",
      "Epoch 181/200\n",
      "24/24 [==============================] - 0s 956us/step - loss: 0.0263 - accuracy: 1.0000\n",
      "Epoch 182/200\n",
      "24/24 [==============================] - 0s 1ms/step - loss: 0.0260 - accuracy: 1.0000\n",
      "Epoch 183/200\n",
      "24/24 [==============================] - 0s 1ms/step - loss: 0.0257 - accuracy: 1.0000\n",
      "Epoch 184/200\n",
      "24/24 [==============================] - 0s 1ms/step - loss: 0.0254 - accuracy: 1.0000\n",
      "Epoch 185/200\n",
      "24/24 [==============================] - 0s 1ms/step - loss: 0.0251 - accuracy: 1.0000\n",
      "Epoch 186/200\n",
      "24/24 [==============================] - 0s 957us/step - loss: 0.0249 - accuracy: 1.0000\n",
      "Epoch 187/200\n",
      "24/24 [==============================] - 0s 1000us/step - loss: 0.0246 - accuracy: 1.0000\n",
      "Epoch 188/200\n",
      "24/24 [==============================] - 0s 957us/step - loss: 0.0243 - accuracy: 1.0000\n",
      "Epoch 189/200\n",
      "24/24 [==============================] - 0s 957us/step - loss: 0.0240 - accuracy: 1.0000\n",
      "Epoch 190/200\n",
      "24/24 [==============================] - 0s 1000us/step - loss: 0.0238 - accuracy: 1.0000\n",
      "Epoch 191/200\n",
      "24/24 [==============================] - 0s 1ms/step - loss: 0.0235 - accuracy: 1.0000\n",
      "Epoch 192/200\n",
      "24/24 [==============================] - 0s 1ms/step - loss: 0.0232 - accuracy: 1.0000\n",
      "Epoch 193/200\n",
      "24/24 [==============================] - 0s 1ms/step - loss: 0.0230 - accuracy: 1.0000\n",
      "Epoch 194/200\n",
      "24/24 [==============================] - 0s 826us/step - loss: 0.0227 - accuracy: 1.0000\n",
      "Epoch 195/200\n",
      "24/24 [==============================] - 0s 1ms/step - loss: 0.0225 - accuracy: 1.0000\n",
      "Epoch 196/200\n",
      "24/24 [==============================] - 0s 913us/step - loss: 0.0222 - accuracy: 1.0000\n",
      "Epoch 197/200\n",
      "24/24 [==============================] - 0s 870us/step - loss: 0.0220 - accuracy: 1.0000\n",
      "Epoch 198/200\n",
      "24/24 [==============================] - 0s 1ms/step - loss: 0.0217 - accuracy: 1.0000\n",
      "Epoch 199/200\n",
      "24/24 [==============================] - 0s 1ms/step - loss: 0.0215 - accuracy: 1.0000\n",
      "Epoch 200/200\n",
      "24/24 [==============================] - 0s 913us/step - loss: 0.0213 - accuracy: 1.0000\n"
     ]
    }
   ],
   "source": [
    "# Fit the model to the training data\n",
    "fit_model = nn_model.fit(X_train_scaled, y_train, epochs=200)"
   ]
  },
  {
   "cell_type": "code",
   "execution_count": 28,
   "id": "b93a1400-9ece-4f2f-b3bb-9711af8bb6d5",
   "metadata": {},
   "outputs": [
    {
     "data": {
      "text/plain": [
       "<AxesSubplot:>"
      ]
     },
     "execution_count": 28,
     "metadata": {},
     "output_type": "execute_result"
    },
    {
     "data": {
      "image/png": "[encoded data removed]",
      "text/plain": [
       "<Figure size 432x288 with 1 Axes>"
      ]
     },
     "metadata": {
      "needs_background": "light"
     },
     "output_type": "display_data"
    }
   ],
   "source": [
    "# Create a DataFrame containing training history\n",
    "history_df = pd.DataFrame(fit_model.history, index=range(1,len(fit_model.history[\"loss\"])+1))\n",
    "\n",
    "# Plot the loss\n",
    "history_df.plot(y=\"loss\")"
   ]
  },
  {
   "cell_type": "code",
   "execution_count": 29,
   "id": "f943aad8-2efc-4e7c-ae61-937df4f63650",
   "metadata": {},
   "outputs": [
    {
     "data": {
      "text/plain": [
       "<AxesSubplot:>"
      ]
     },
     "execution_count": 29,
     "metadata": {},
     "output_type": "execute_result"
    },
    {
     "data": {
      "image/png": "[encoded data removed]",
      "text/plain": [
       "<Figure size 432x288 with 1 Axes>"
      ]
     },
     "metadata": {
      "needs_background": "light"
     },
     "output_type": "display_data"
    }
   ],
   "source": [
    "# Plot the accuracy\n",
    "history_df.plot(y=\"accuracy\")"
   ]
  },
  {
   "cell_type": "markdown",
   "id": "6893c7ff-406a-4cbc-8bee-8ebd5011b260",
   "metadata": {},
   "source": [
    "## Evaluate the model using test data"
   ]
  },
  {
   "cell_type": "code",
   "execution_count": 30,
   "id": "2fa68d27-4125-4ad9-8187-a1fa6335e342",
   "metadata": {},
   "outputs": [
    {
     "name": "stdout",
     "output_type": "stream",
     "text": [
      "8/8 - 0s - loss: 0.0221 - accuracy: 1.0000 - 145ms/epoch - 18ms/step\n",
      "Loss: 0.022148098796606064, Accuracy; 1.0\n"
     ]
    }
   ],
   "source": [
    "model_loss, model_accuracy = nn_model.evaluate(X_test_scaled, y_test, verbose=2)\n",
    "print(f\"Loss: {model_loss}, Accuracy; {model_accuracy}\")"
   ]
  },
  {
   "cell_type": "markdown",
   "id": "67b83830-3a05-49a9-9c10-3c51b5b23397",
   "metadata": {},
   "source": [
    "## Prediction of new dataset"
   ]
  },
  {
   "cell_type": "code",
   "execution_count": 34,
   "id": "977a8486-e4b0-4a6a-aa83-d1bee3b2d015",
   "metadata": {},
   "outputs": [
    {
     "data": {
      "text/plain": [
       "array([[0],\n",
       "       [1],\n",
       "       [0],\n",
       "       [1],\n",
       "       [0],\n",
       "       [0],\n",
       "       [1],\n",
       "       [1],\n",
       "       [1],\n",
       "       [0]])"
      ]
     },
     "execution_count": 34,
     "metadata": {},
     "output_type": "execute_result"
    }
   ],
   "source": [
    "# Predict the classification of a new set of blob data\n",
    "new_X, new_Y = make_blobs(n_samples=10, centers=2, n_features=2, random_state=78)\n",
    "new_X_scaled = X_scaler.transform(new_X)\n",
    "(nn_model.predict(new_X_scaled) > 0.5).astype(\"int32\")\n"
   ]
  },
  {
   "cell_type": "markdown",
   "id": "3fb23fcb-5b8c-4562-838c-ce55077480d6",
   "metadata": {},
   "source": [
    "## 19.2.4 Non-linear Numbers"
   ]
  },
  {
   "cell_type": "markdown",
   "id": "688ff546-2edb-47e3-8b81-fc382d5ba158",
   "metadata": {},
   "source": [
    "### Create Non-linear data"
   ]
  },
  {
   "cell_type": "code",
   "execution_count": 35,
   "id": "77da5bbe-0bf6-4a37-bc93-63600af15aea",
   "metadata": {},
   "outputs": [],
   "source": [
    "from sklearn.datasets import make_moons\n",
    "\n",
    "# Creating dummy nonlinear data\n",
    "X_moons, y_moons = make_moons(n_samples=1000, noise=0.08, random_state=78)"
   ]
  },
  {
   "cell_type": "code",
   "execution_count": 41,
   "id": "e92122ac-de65-4a5a-ac2e-7c61ea0fe39f",
   "metadata": {},
   "outputs": [],
   "source": [
    "# Transforming y_moons to a vertical vector\n",
    "y_moons = y_moons.reshape(-1, 1)"
   ]
  },
  {
   "cell_type": "code",
   "execution_count": 43,
   "id": "00a99442-0376-48dd-86b8-2c381eb4a178",
   "metadata": {},
   "outputs": [
    {
     "data": {
      "text/plain": [
       "<AxesSubplot:xlabel='Feature 1', ylabel='Feature 2'>"
      ]
     },
     "execution_count": 43,
     "metadata": {},
     "output_type": "execute_result"
    },
    {
     "data": {
      "image/png": "[encoded data removed]",
      "text/plain": [
       "<Figure size 432x288 with 2 Axes>"
      ]
     },
     "metadata": {
      "needs_background": "light"
     },
     "output_type": "display_data"
    }
   ],
   "source": [
    "# Create dataframe to plot non-linear data\n",
    "df_moons = pd.DataFrame(X_moons, columns=[\"Feature 1\", \"Feature 2\"])\n",
    "df_moons[\"Target\"] = y_moons\n",
    "\n",
    "# Plot the nonlinear dummy data\n",
    "df_moons.plot.scatter(x=\"Feature 1\", y=\"Feature 2\", c=\"Target\", colormap=\"winter\")"
   ]
  },
  {
   "cell_type": "markdown",
   "id": "c843e509-e2a5-481d-b0fb-db0889794c21",
   "metadata": {},
   "source": [
    "### Create training and test sets"
   ]
  },
  {
   "cell_type": "code",
   "execution_count": 44,
   "id": "b012e07d-51f8-4262-882b-264fb95a846d",
   "metadata": {},
   "outputs": [],
   "source": [
    "X_moon_train, X_moon_test, y_moon_train, y_moon_test = train_test_split(X_moons, y_moons, random_state=78)"
   ]
  },
  {
   "cell_type": "markdown",
   "id": "6af97c8e-735f-4c9e-be15-a1f4fe9097b5",
   "metadata": {},
   "source": [
    "### Scale training data"
   ]
  },
  {
   "cell_type": "code",
   "execution_count": 45,
   "id": "e4695454-3bb2-447c-9077-e9b21662740c",
   "metadata": {},
   "outputs": [],
   "source": [
    "# Create scaler instance\n",
    "X_moon_scaler = skl.preprocessing.StandardScaler()\n",
    "\n",
    "# Fit the scaler\n",
    "X_moon_scaler.fit(X_moon_train)\n",
    "\n",
    "# Scale the data\n",
    "X_moon_train_scaled = X_moon_scaler.transform(X_moon_train)\n",
    "X_moon_test_scaled = X_moon_scaler.transform(X_moon_test)"
   ]
  },
  {
   "cell_type": "markdown",
   "id": "3e6dfa32-ce5e-4ba6-b9c4-0a6775b7b5ee",
   "metadata": {},
   "source": [
    "### Train the model with the nonlinear data"
   ]
  },
  {
   "cell_type": "code",
   "execution_count": 46,
   "id": "88e19ec9-005d-40a3-84df-4fbaf69d3603",
   "metadata": {},
   "outputs": [
    {
     "name": "stdout",
     "output_type": "stream",
     "text": [
      "Epoch 1/100\n",
      "24/24 [==============================] - 0s 1ms/step - loss: 1.3103 - accuracy: 0.5400\n",
      "Epoch 2/100\n",
      "24/24 [==============================] - 0s 1ms/step - loss: 1.1470 - accuracy: 0.5507\n",
      "Epoch 3/100\n",
      "24/24 [==============================] - 0s 1ms/step - loss: 1.0424 - accuracy: 0.5653\n",
      "Epoch 4/100\n",
      "24/24 [==============================] - 0s 1ms/step - loss: 0.9674 - accuracy: 0.5867\n",
      "Epoch 5/100\n",
      "24/24 [==============================] - 0s 1ms/step - loss: 0.9119 - accuracy: 0.6013\n",
      "Epoch 6/100\n",
      "24/24 [==============================] - 0s 1ms/step - loss: 0.8643 - accuracy: 0.6120\n",
      "Epoch 7/100\n",
      "24/24 [==============================] - 0s 1ms/step - loss: 0.8249 - accuracy: 0.6200\n",
      "Epoch 8/100\n",
      "24/24 [==============================] - 0s 1ms/step - loss: 0.7889 - accuracy: 0.6280\n",
      "Epoch 9/100\n",
      "24/24 [==============================] - 0s 1ms/step - loss: 0.7567 - accuracy: 0.6373\n",
      "Epoch 10/100\n",
      "24/24 [==============================] - 0s 2ms/step - loss: 0.7258 - accuracy: 0.6480\n",
      "Epoch 11/100\n",
      "24/24 [==============================] - 0s 1ms/step - loss: 0.6959 - accuracy: 0.6547\n",
      "Epoch 12/100\n",
      "24/24 [==============================] - 0s 1ms/step - loss: 0.6679 - accuracy: 0.6667\n",
      "Epoch 13/100\n",
      "24/24 [==============================] - 0s 1ms/step - loss: 0.6407 - accuracy: 0.6733\n",
      "Epoch 14/100\n",
      "24/24 [==============================] - 0s 1ms/step - loss: 0.6158 - accuracy: 0.6813\n",
      "Epoch 15/100\n",
      "24/24 [==============================] - 0s 1ms/step - loss: 0.5930 - accuracy: 0.6893\n",
      "Epoch 16/100\n",
      "24/24 [==============================] - 0s 1ms/step - loss: 0.5725 - accuracy: 0.6960\n",
      "Epoch 17/100\n",
      "24/24 [==============================] - 0s 1ms/step - loss: 0.5522 - accuracy: 0.7027\n",
      "Epoch 18/100\n",
      "24/24 [==============================] - 0s 1ms/step - loss: 0.5350 - accuracy: 0.7107\n",
      "Epoch 19/100\n",
      "24/24 [==============================] - 0s 1ms/step - loss: 0.5185 - accuracy: 0.7147\n",
      "Epoch 20/100\n",
      "24/24 [==============================] - 0s 1ms/step - loss: 0.5035 - accuracy: 0.7160\n",
      "Epoch 21/100\n",
      "24/24 [==============================] - 0s 2ms/step - loss: 0.4896 - accuracy: 0.7227\n",
      "Epoch 22/100\n",
      "24/24 [==============================] - 0s 2ms/step - loss: 0.4768 - accuracy: 0.7280\n",
      "Epoch 23/100\n",
      "24/24 [==============================] - 0s 2ms/step - loss: 0.4646 - accuracy: 0.7373\n",
      "Epoch 24/100\n",
      "24/24 [==============================] - 0s 1ms/step - loss: 0.4532 - accuracy: 0.7413\n",
      "Epoch 25/100\n",
      "24/24 [==============================] - 0s 1ms/step - loss: 0.4425 - accuracy: 0.7453\n",
      "Epoch 26/100\n",
      "24/24 [==============================] - 0s 1ms/step - loss: 0.4325 - accuracy: 0.7547\n",
      "Epoch 27/100\n",
      "24/24 [==============================] - 0s 1ms/step - loss: 0.4229 - accuracy: 0.7587\n",
      "Epoch 28/100\n",
      "24/24 [==============================] - 0s 1ms/step - loss: 0.4140 - accuracy: 0.7640\n",
      "Epoch 29/100\n",
      "24/24 [==============================] - 0s 1ms/step - loss: 0.4056 - accuracy: 0.7680\n",
      "Epoch 30/100\n",
      "24/24 [==============================] - 0s 1ms/step - loss: 0.3975 - accuracy: 0.7747\n",
      "Epoch 31/100\n",
      "24/24 [==============================] - 0s 1ms/step - loss: 0.3898 - accuracy: 0.7800\n",
      "Epoch 32/100\n",
      "24/24 [==============================] - 0s 1ms/step - loss: 0.3824 - accuracy: 0.7840\n",
      "Epoch 33/100\n",
      "24/24 [==============================] - 0s 1ms/step - loss: 0.3755 - accuracy: 0.7853\n",
      "Epoch 34/100\n",
      "24/24 [==============================] - 0s 1ms/step - loss: 0.3688 - accuracy: 0.7893\n",
      "Epoch 35/100\n",
      "24/24 [==============================] - 0s 1ms/step - loss: 0.3625 - accuracy: 0.7933\n",
      "Epoch 36/100\n",
      "24/24 [==============================] - 0s 1ms/step - loss: 0.3563 - accuracy: 0.7973\n",
      "Epoch 37/100\n",
      "24/24 [==============================] - 0s 1ms/step - loss: 0.3507 - accuracy: 0.7987\n",
      "Epoch 38/100\n",
      "24/24 [==============================] - 0s 1ms/step - loss: 0.3452 - accuracy: 0.8000\n",
      "Epoch 39/100\n",
      "24/24 [==============================] - 0s 2ms/step - loss: 0.3402 - accuracy: 0.8040\n",
      "Epoch 40/100\n",
      "24/24 [==============================] - 0s 1ms/step - loss: 0.3352 - accuracy: 0.8080\n",
      "Epoch 41/100\n",
      "24/24 [==============================] - 0s 1ms/step - loss: 0.3307 - accuracy: 0.8147\n",
      "Epoch 42/100\n",
      "24/24 [==============================] - 0s 1ms/step - loss: 0.3264 - accuracy: 0.8187\n",
      "Epoch 43/100\n",
      "24/24 [==============================] - 0s 1ms/step - loss: 0.3223 - accuracy: 0.8227\n",
      "Epoch 44/100\n",
      "24/24 [==============================] - 0s 1ms/step - loss: 0.3185 - accuracy: 0.8240\n",
      "Epoch 45/100\n",
      "24/24 [==============================] - 0s 1ms/step - loss: 0.3149 - accuracy: 0.8293\n",
      "Epoch 46/100\n",
      "24/24 [==============================] - 0s 1ms/step - loss: 0.3116 - accuracy: 0.8347\n",
      "Epoch 47/100\n",
      "24/24 [==============================] - 0s 1ms/step - loss: 0.3085 - accuracy: 0.8360\n",
      "Epoch 48/100\n",
      "24/24 [==============================] - 0s 1ms/step - loss: 0.3055 - accuracy: 0.8387\n",
      "Epoch 49/100\n",
      "24/24 [==============================] - 0s 2ms/step - loss: 0.3027 - accuracy: 0.8400\n",
      "Epoch 50/100\n",
      "24/24 [==============================] - 0s 1ms/step - loss: 0.3000 - accuracy: 0.8400\n",
      "Epoch 51/100\n",
      "24/24 [==============================] - 0s 2ms/step - loss: 0.2975 - accuracy: 0.8413\n",
      "Epoch 52/100\n",
      "24/24 [==============================] - 0s 1ms/step - loss: 0.2951 - accuracy: 0.8413\n",
      "Epoch 53/100\n",
      "24/24 [==============================] - 0s 1ms/step - loss: 0.2928 - accuracy: 0.8427\n",
      "Epoch 54/100\n",
      "24/24 [==============================] - 0s 1ms/step - loss: 0.2906 - accuracy: 0.8480\n",
      "Epoch 55/100\n",
      "24/24 [==============================] - 0s 1ms/step - loss: 0.2886 - accuracy: 0.8493\n",
      "Epoch 56/100\n",
      "24/24 [==============================] - 0s 1ms/step - loss: 0.2867 - accuracy: 0.8493\n",
      "Epoch 57/100\n",
      "24/24 [==============================] - 0s 1ms/step - loss: 0.2847 - accuracy: 0.8520\n",
      "Epoch 58/100\n",
      "24/24 [==============================] - 0s 1ms/step - loss: 0.2829 - accuracy: 0.8547\n",
      "Epoch 59/100\n",
      "24/24 [==============================] - 0s 1ms/step - loss: 0.2813 - accuracy: 0.8560\n",
      "Epoch 60/100\n",
      "24/24 [==============================] - 0s 1ms/step - loss: 0.2797 - accuracy: 0.8600\n",
      "Epoch 61/100\n",
      "24/24 [==============================] - 0s 1ms/step - loss: 0.2783 - accuracy: 0.8613\n",
      "Epoch 62/100\n",
      "24/24 [==============================] - 0s 1ms/step - loss: 0.2768 - accuracy: 0.8613\n",
      "Epoch 63/100\n",
      "24/24 [==============================] - 0s 1ms/step - loss: 0.2755 - accuracy: 0.8627\n",
      "Epoch 64/100\n",
      "24/24 [==============================] - 0s 1ms/step - loss: 0.2741 - accuracy: 0.8667\n",
      "Epoch 65/100\n",
      "24/24 [==============================] - 0s 1ms/step - loss: 0.2730 - accuracy: 0.8720\n",
      "Epoch 66/100\n",
      "24/24 [==============================] - 0s 1ms/step - loss: 0.2718 - accuracy: 0.8733\n",
      "Epoch 67/100\n",
      "24/24 [==============================] - 0s 2ms/step - loss: 0.2708 - accuracy: 0.8733\n",
      "Epoch 68/100\n",
      "24/24 [==============================] - 0s 1ms/step - loss: 0.2697 - accuracy: 0.8747\n",
      "Epoch 69/100\n",
      "24/24 [==============================] - 0s 3ms/step - loss: 0.2687 - accuracy: 0.8760\n",
      "Epoch 70/100\n",
      "24/24 [==============================] - 0s 1ms/step - loss: 0.2677 - accuracy: 0.8760\n",
      "Epoch 71/100\n",
      "24/24 [==============================] - 0s 1ms/step - loss: 0.2669 - accuracy: 0.8773\n",
      "Epoch 72/100\n",
      "24/24 [==============================] - 0s 1ms/step - loss: 0.2660 - accuracy: 0.8800\n",
      "Epoch 73/100\n",
      "24/24 [==============================] - 0s 1ms/step - loss: 0.2653 - accuracy: 0.8800\n",
      "Epoch 74/100\n",
      "24/24 [==============================] - 0s 1ms/step - loss: 0.2645 - accuracy: 0.8800\n",
      "Epoch 75/100\n",
      "24/24 [==============================] - 0s 3ms/step - loss: 0.2637 - accuracy: 0.8800\n",
      "Epoch 76/100\n",
      "24/24 [==============================] - 0s 1ms/step - loss: 0.2630 - accuracy: 0.8827\n",
      "Epoch 77/100\n",
      "24/24 [==============================] - 0s 1ms/step - loss: 0.2624 - accuracy: 0.8827\n",
      "Epoch 78/100\n",
      "24/24 [==============================] - 0s 1ms/step - loss: 0.2618 - accuracy: 0.8827\n",
      "Epoch 79/100\n",
      "24/24 [==============================] - 0s 1ms/step - loss: 0.2612 - accuracy: 0.8827\n",
      "Epoch 80/100\n",
      "24/24 [==============================] - 0s 1ms/step - loss: 0.2606 - accuracy: 0.8827\n",
      "Epoch 81/100\n",
      "24/24 [==============================] - 0s 1ms/step - loss: 0.2601 - accuracy: 0.8827\n",
      "Epoch 82/100\n",
      "24/24 [==============================] - 0s 2ms/step - loss: 0.2596 - accuracy: 0.8827\n",
      "Epoch 83/100\n",
      "24/24 [==============================] - 0s 2ms/step - loss: 0.2590 - accuracy: 0.8840\n",
      "Epoch 84/100\n",
      "24/24 [==============================] - 0s 1ms/step - loss: 0.2587 - accuracy: 0.8853\n",
      "Epoch 85/100\n",
      "24/24 [==============================] - 0s 2ms/step - loss: 0.2582 - accuracy: 0.8840\n",
      "Epoch 86/100\n",
      "24/24 [==============================] - 0s 1ms/step - loss: 0.2576 - accuracy: 0.8867\n",
      "Epoch 87/100\n",
      "24/24 [==============================] - 0s 1ms/step - loss: 0.2572 - accuracy: 0.8867\n",
      "Epoch 88/100\n",
      "24/24 [==============================] - 0s 1ms/step - loss: 0.2568 - accuracy: 0.8853\n",
      "Epoch 89/100\n",
      "24/24 [==============================] - 0s 2ms/step - loss: 0.2565 - accuracy: 0.8853\n",
      "Epoch 90/100\n",
      "24/24 [==============================] - 0s 2ms/step - loss: 0.2561 - accuracy: 0.8853\n",
      "Epoch 91/100\n",
      "24/24 [==============================] - 0s 1ms/step - loss: 0.2557 - accuracy: 0.8853\n",
      "Epoch 92/100\n",
      "24/24 [==============================] - 0s 1ms/step - loss: 0.2555 - accuracy: 0.8840\n",
      "Epoch 93/100\n",
      "24/24 [==============================] - 0s 1ms/step - loss: 0.2552 - accuracy: 0.8853\n",
      "Epoch 94/100\n",
      "24/24 [==============================] - 0s 1ms/step - loss: 0.2548 - accuracy: 0.8867\n",
      "Epoch 95/100\n",
      "24/24 [==============================] - 0s 1ms/step - loss: 0.2546 - accuracy: 0.8867\n",
      "Epoch 96/100\n",
      "24/24 [==============================] - 0s 1ms/step - loss: 0.2543 - accuracy: 0.8867\n",
      "Epoch 97/100\n",
      "24/24 [==============================] - 0s 1ms/step - loss: 0.2540 - accuracy: 0.8880\n",
      "Epoch 98/100\n",
      "24/24 [==============================] - 0s 1ms/step - loss: 0.2538 - accuracy: 0.8880\n",
      "Epoch 99/100\n",
      "24/24 [==============================] - 0s 1ms/step - loss: 0.2535 - accuracy: 0.8880\n",
      "Epoch 100/100\n",
      "24/24 [==============================] - 0s 1ms/step - loss: 0.2532 - accuracy: 0.8880\n"
     ]
    }
   ],
   "source": [
    "model_moon = nn_model.fit(X_moon_train_scaled, y_moon_train, epochs=100, shuffle=True)"
   ]
  },
  {
   "cell_type": "markdown",
   "id": "ea51f1fa-509d-4539-9257-91d3ed48c813",
   "metadata": {},
   "source": [
    "### Plot the loss and accuracy curves"
   ]
  },
  {
   "cell_type": "code",
   "execution_count": 57,
   "id": "010dc98f-ca26-4f6f-836b-07ab629883c2",
   "metadata": {},
   "outputs": [
    {
     "data": {
      "text/plain": [
       "<AxesSubplot:xlabel='epoch', ylabel='loss'>"
      ]
     },
     "execution_count": 57,
     "metadata": {},
     "output_type": "execute_result"
    },
    {
     "data": {
      "image/png": "[encoded data removed]",
      "text/plain": [
       "<Figure size 432x288 with 1 Axes>"
      ]
     },
     "metadata": {
      "needs_background": "light"
     },
     "output_type": "display_data"
    }
   ],
   "source": [
    "# Create a DataFrame containing training history\n",
    "history_df = pd.DataFrame(model_moon.history, index=range(1,len(model_moon.history[\"loss\"])+1))\n",
    "\n",
    "# Plot the loss\n",
    "history_df.plot(y=\"loss\", xlabel='epoch', ylabel='loss')"
   ]
  },
  {
   "cell_type": "code",
   "execution_count": 58,
   "id": "329790ed-1653-46f4-a438-334aa134914c",
   "metadata": {},
   "outputs": [
    {
     "data": {
      "text/plain": [
       "<AxesSubplot:xlabel='epoch', ylabel='accuracy'>"
      ]
     },
     "execution_count": 58,
     "metadata": {},
     "output_type": "execute_result"
    },
    {
     "data": {
      "image/png": "[encoded data removed]",
      "text/plain": [
       "<Figure size 432x288 with 1 Axes>"
      ]
     },
     "metadata": {
      "needs_background": "light"
     },
     "output_type": "display_data"
    }
   ],
   "source": [
    "# plot the accuracy\n",
    "history_df.plot(y=\"accuracy\", xlabel='epoch', ylabel='accuracy')"
   ]
  },
  {
   "cell_type": "code",
   "execution_count": 61,
   "id": "ee612b47-6ac9-4f9f-b0e7-8aefd405885e",
   "metadata": {},
   "outputs": [
    {
     "data": {
      "text/html": [
       "<div>\n",
       "<style scoped>\n",
       "    .dataframe tbody tr th:only-of-type {\n",
       "        vertical-align: middle;\n",
       "    }\n",
       "\n",
       "    .dataframe tbody tr th {\n",
       "        vertical-align: top;\n",
       "    }\n",
       "\n",
       "    .dataframe thead th {\n",
       "        text-align: right;\n",
       "    }\n",
       "</style>\n",
       "<table border=\"1\" class=\"dataframe\">\n",
       "  <thead>\n",
       "    <tr style=\"text-align: right;\">\n",
       "      <th></th>\n",
       "      <th>loss</th>\n",
       "      <th>accuracy</th>\n",
       "    </tr>\n",
       "  </thead>\n",
       "  <tbody>\n",
       "    <tr>\n",
       "      <th>81</th>\n",
       "      <td>0.260142</td>\n",
       "      <td>0.882667</td>\n",
       "    </tr>\n",
       "    <tr>\n",
       "      <th>82</th>\n",
       "      <td>0.259601</td>\n",
       "      <td>0.882667</td>\n",
       "    </tr>\n",
       "    <tr>\n",
       "      <th>83</th>\n",
       "      <td>0.259026</td>\n",
       "      <td>0.884000</td>\n",
       "    </tr>\n",
       "    <tr>\n",
       "      <th>84</th>\n",
       "      <td>0.258678</td>\n",
       "      <td>0.885333</td>\n",
       "    </tr>\n",
       "    <tr>\n",
       "      <th>85</th>\n",
       "      <td>0.258211</td>\n",
       "      <td>0.884000</td>\n",
       "    </tr>\n",
       "    <tr>\n",
       "      <th>86</th>\n",
       "      <td>0.257646</td>\n",
       "      <td>0.886667</td>\n",
       "    </tr>\n",
       "    <tr>\n",
       "      <th>87</th>\n",
       "      <td>0.257236</td>\n",
       "      <td>0.886667</td>\n",
       "    </tr>\n",
       "    <tr>\n",
       "      <th>88</th>\n",
       "      <td>0.256842</td>\n",
       "      <td>0.885333</td>\n",
       "    </tr>\n",
       "    <tr>\n",
       "      <th>89</th>\n",
       "      <td>0.256486</td>\n",
       "      <td>0.885333</td>\n",
       "    </tr>\n",
       "    <tr>\n",
       "      <th>90</th>\n",
       "      <td>0.256141</td>\n",
       "      <td>0.885333</td>\n",
       "    </tr>\n",
       "  </tbody>\n",
       "</table>\n",
       "</div>"
      ],
      "text/plain": [
       "        loss  accuracy\n",
       "81  0.260142  0.882667\n",
       "82  0.259601  0.882667\n",
       "83  0.259026  0.884000\n",
       "84  0.258678  0.885333\n",
       "85  0.258211  0.884000\n",
       "86  0.257646  0.886667\n",
       "87  0.257236  0.886667\n",
       "88  0.256842  0.885333\n",
       "89  0.256486  0.885333\n",
       "90  0.256141  0.885333"
      ]
     },
     "execution_count": 61,
     "metadata": {},
     "output_type": "execute_result"
    }
   ],
   "source": [
    "history_df[80:90]"
   ]
  },
  {
   "cell_type": "markdown",
   "id": "9bbf1ba5-3c5b-49c2-b25f-9dc0b43b393e",
   "metadata": {},
   "source": [
    "## 19.2.5 Multiple Neuron Neural Network"
   ]
  },
  {
   "cell_type": "code",
   "execution_count": 62,
   "id": "a6aab74b-344e-4d39-bade-c513a70adc7b",
   "metadata": {},
   "outputs": [],
   "source": [
    "# Generate new sequental model\n",
    "new_model = tf.keras.models.Sequential()"
   ]
  },
  {
   "cell_type": "markdown",
   "id": "e728a558-8d3b-446b-abb0-b26b13c42f60",
   "metadata": {},
   "source": [
    "> Add input, hidden, and output layers using the `Dense` class"
   ]
  },
  {
   "cell_type": "code",
   "execution_count": 63,
   "id": "025b06b6-ed8f-40aa-ad74-0c505f9fd7bf",
   "metadata": {},
   "outputs": [],
   "source": [
    "# Add the input and hidden layer\n",
    "number_inputs = 2\n",
    "number_hidden_nodes = 6\n",
    "\n",
    "new_model.add(tf.keras.layers.Dense(units=number_hidden_nodes, activation=\"relu\", input_dim=number_inputs))\n",
    "\n",
    "# Add output layer that uses a probability activation function\n",
    "new_model.add(tf.keras.layers.Dense(units=1, activation=\"sigmoid\"))"
   ]
  },
  {
   "cell_type": "markdown",
   "id": "b64be8ce-8d31-4943-b33f-7d82af1566f0",
   "metadata": {},
   "source": [
    "> Compile and train the model using non-linear moon-shaped training data. Use the same training parameters, including loss metric, optimizer function, and number of epochs"
   ]
  },
  {
   "cell_type": "code",
   "execution_count": 64,
   "id": "4436a406-3864-4be9-be5e-a751da7cb916",
   "metadata": {},
   "outputs": [
    {
     "name": "stdout",
     "output_type": "stream",
     "text": [
      "Epoch 1/100\n",
      "24/24 [==============================] - 1s 999us/step - loss: 0.8552 - accuracy: 0.4693\n",
      "Epoch 2/100\n",
      "24/24 [==============================] - 0s 1000us/step - loss: 0.8102 - accuracy: 0.4693\n",
      "Epoch 3/100\n",
      "24/24 [==============================] - 0s 956us/step - loss: 0.7698 - accuracy: 0.4693\n",
      "Epoch 4/100\n",
      "24/24 [==============================] - 0s 1000us/step - loss: 0.7325 - accuracy: 0.4720\n",
      "Epoch 5/100\n",
      "24/24 [==============================] - 0s 957us/step - loss: 0.6970 - accuracy: 0.4840\n",
      "Epoch 6/100\n",
      "24/24 [==============================] - 0s 1000us/step - loss: 0.6637 - accuracy: 0.5187\n",
      "Epoch 7/100\n",
      "24/24 [==============================] - 0s 999us/step - loss: 0.6314 - accuracy: 0.5973\n",
      "Epoch 8/100\n",
      "24/24 [==============================] - 0s 1ms/step - loss: 0.6008 - accuracy: 0.7573\n",
      "Epoch 9/100\n",
      "24/24 [==============================] - 0s 1ms/step - loss: 0.5713 - accuracy: 0.7947\n",
      "Epoch 10/100\n",
      "24/24 [==============================] - 0s 956us/step - loss: 0.5432 - accuracy: 0.8160\n",
      "Epoch 11/100\n",
      "24/24 [==============================] - 0s 1ms/step - loss: 0.5166 - accuracy: 0.8333\n",
      "Epoch 12/100\n",
      "24/24 [==============================] - 0s 1ms/step - loss: 0.4917 - accuracy: 0.8480\n",
      "Epoch 13/100\n",
      "24/24 [==============================] - 0s 999us/step - loss: 0.4679 - accuracy: 0.8600\n",
      "Epoch 14/100\n",
      "24/24 [==============================] - 0s 1ms/step - loss: 0.4460 - accuracy: 0.8720\n",
      "Epoch 15/100\n",
      "24/24 [==============================] - 0s 1ms/step - loss: 0.4258 - accuracy: 0.8747\n",
      "Epoch 16/100\n",
      "24/24 [==============================] - 0s 1ms/step - loss: 0.4072 - accuracy: 0.8787\n",
      "Epoch 17/100\n",
      "24/24 [==============================] - 0s 999us/step - loss: 0.3901 - accuracy: 0.8867\n",
      "Epoch 18/100\n",
      "24/24 [==============================] - 0s 1000us/step - loss: 0.3743 - accuracy: 0.8880\n",
      "Epoch 19/100\n",
      "24/24 [==============================] - 0s 1ms/step - loss: 0.3604 - accuracy: 0.8880\n",
      "Epoch 20/100\n",
      "24/24 [==============================] - 0s 1ms/step - loss: 0.3478 - accuracy: 0.8893\n",
      "Epoch 21/100\n",
      "24/24 [==============================] - 0s 1ms/step - loss: 0.3364 - accuracy: 0.8880\n",
      "Epoch 22/100\n",
      "24/24 [==============================] - 0s 1ms/step - loss: 0.3262 - accuracy: 0.8907\n",
      "Epoch 23/100\n",
      "24/24 [==============================] - 0s 1ms/step - loss: 0.3169 - accuracy: 0.8907\n",
      "Epoch 24/100\n",
      "24/24 [==============================] - 0s 1000us/step - loss: 0.3085 - accuracy: 0.8907\n",
      "Epoch 25/100\n",
      "24/24 [==============================] - 0s 783us/step - loss: 0.3009 - accuracy: 0.8920\n",
      "Epoch 26/100\n",
      "24/24 [==============================] - 0s 956us/step - loss: 0.2941 - accuracy: 0.8947\n",
      "Epoch 27/100\n",
      "24/24 [==============================] - 0s 739us/step - loss: 0.2882 - accuracy: 0.8947\n",
      "Epoch 28/100\n",
      "24/24 [==============================] - 0s 1000us/step - loss: 0.2827 - accuracy: 0.8960\n",
      "Epoch 29/100\n",
      "24/24 [==============================] - 0s 870us/step - loss: 0.2779 - accuracy: 0.8973\n",
      "Epoch 30/100\n",
      "24/24 [==============================] - 0s 956us/step - loss: 0.2736 - accuracy: 0.8973\n",
      "Epoch 31/100\n",
      "24/24 [==============================] - 0s 913us/step - loss: 0.2697 - accuracy: 0.8987\n",
      "Epoch 32/100\n",
      "24/24 [==============================] - 0s 956us/step - loss: 0.2664 - accuracy: 0.8973\n",
      "Epoch 33/100\n",
      "24/24 [==============================] - 0s 826us/step - loss: 0.2631 - accuracy: 0.8973\n",
      "Epoch 34/100\n",
      "24/24 [==============================] - 0s 826us/step - loss: 0.2603 - accuracy: 0.8987\n",
      "Epoch 35/100\n",
      "24/24 [==============================] - 0s 1000us/step - loss: 0.2578 - accuracy: 0.9000\n",
      "Epoch 36/100\n",
      "24/24 [==============================] - 0s 913us/step - loss: 0.2555 - accuracy: 0.9013\n",
      "Epoch 37/100\n",
      "24/24 [==============================] - 0s 1ms/step - loss: 0.2532 - accuracy: 0.9013\n",
      "Epoch 38/100\n",
      "24/24 [==============================] - 0s 956us/step - loss: 0.2513 - accuracy: 0.9013\n",
      "Epoch 39/100\n",
      "24/24 [==============================] - 0s 913us/step - loss: 0.2495 - accuracy: 0.9040\n",
      "Epoch 40/100\n",
      "24/24 [==============================] - 0s 913us/step - loss: 0.2479 - accuracy: 0.9053\n",
      "Epoch 41/100\n",
      "24/24 [==============================] - 0s 913us/step - loss: 0.2463 - accuracy: 0.9053\n",
      "Epoch 42/100\n",
      "24/24 [==============================] - 0s 1ms/step - loss: 0.2450 - accuracy: 0.9053\n",
      "Epoch 43/100\n",
      "24/24 [==============================] - 0s 826us/step - loss: 0.2437 - accuracy: 0.9053\n",
      "Epoch 44/100\n",
      "24/24 [==============================] - 0s 913us/step - loss: 0.2425 - accuracy: 0.9053\n",
      "Epoch 45/100\n",
      "24/24 [==============================] - 0s 1ms/step - loss: 0.2413 - accuracy: 0.9053\n",
      "Epoch 46/100\n",
      "24/24 [==============================] - 0s 1ms/step - loss: 0.2402 - accuracy: 0.9067\n",
      "Epoch 47/100\n",
      "24/24 [==============================] - 0s 1ms/step - loss: 0.2394 - accuracy: 0.9067\n",
      "Epoch 48/100\n",
      "24/24 [==============================] - 0s 913us/step - loss: 0.2383 - accuracy: 0.9067\n",
      "Epoch 49/100\n",
      "24/24 [==============================] - 0s 913us/step - loss: 0.2374 - accuracy: 0.9067\n",
      "Epoch 50/100\n",
      "24/24 [==============================] - 0s 913us/step - loss: 0.2365 - accuracy: 0.9067\n",
      "Epoch 51/100\n",
      "24/24 [==============================] - 0s 913us/step - loss: 0.2356 - accuracy: 0.9067\n",
      "Epoch 52/100\n",
      "24/24 [==============================] - 0s 913us/step - loss: 0.2347 - accuracy: 0.9080\n",
      "Epoch 53/100\n",
      "24/24 [==============================] - 0s 783us/step - loss: 0.2339 - accuracy: 0.9080\n",
      "Epoch 54/100\n",
      "24/24 [==============================] - 0s 1ms/step - loss: 0.2332 - accuracy: 0.9080\n",
      "Epoch 55/100\n",
      "24/24 [==============================] - 0s 869us/step - loss: 0.2324 - accuracy: 0.9080\n",
      "Epoch 56/100\n",
      "24/24 [==============================] - 0s 870us/step - loss: 0.2317 - accuracy: 0.9080\n",
      "Epoch 57/100\n",
      "24/24 [==============================] - 0s 913us/step - loss: 0.2310 - accuracy: 0.9080\n",
      "Epoch 58/100\n",
      "24/24 [==============================] - 0s 869us/step - loss: 0.2302 - accuracy: 0.9080\n",
      "Epoch 59/100\n",
      "24/24 [==============================] - 0s 2ms/step - loss: 0.2295 - accuracy: 0.9107\n",
      "Epoch 60/100\n",
      "24/24 [==============================] - 0s 913us/step - loss: 0.2287 - accuracy: 0.9107\n",
      "Epoch 61/100\n",
      "24/24 [==============================] - 0s 913us/step - loss: 0.2280 - accuracy: 0.9107\n",
      "Epoch 62/100\n",
      "24/24 [==============================] - 0s 870us/step - loss: 0.2273 - accuracy: 0.9107\n",
      "Epoch 63/100\n",
      "24/24 [==============================] - 0s 783us/step - loss: 0.2266 - accuracy: 0.9107\n",
      "Epoch 64/100\n",
      "24/24 [==============================] - 0s 826us/step - loss: 0.2258 - accuracy: 0.9107\n",
      "Epoch 65/100\n",
      "24/24 [==============================] - 0s 826us/step - loss: 0.2251 - accuracy: 0.9107\n",
      "Epoch 66/100\n",
      "24/24 [==============================] - 0s 826us/step - loss: 0.2244 - accuracy: 0.9107\n",
      "Epoch 67/100\n",
      "24/24 [==============================] - 0s 783us/step - loss: 0.2236 - accuracy: 0.9107\n",
      "Epoch 68/100\n",
      "24/24 [==============================] - 0s 957us/step - loss: 0.2228 - accuracy: 0.9107\n",
      "Epoch 69/100\n",
      "24/24 [==============================] - 0s 783us/step - loss: 0.2221 - accuracy: 0.9107\n",
      "Epoch 70/100\n",
      "24/24 [==============================] - 0s 870us/step - loss: 0.2213 - accuracy: 0.9107\n",
      "Epoch 71/100\n",
      "24/24 [==============================] - 0s 826us/step - loss: 0.2205 - accuracy: 0.9107\n",
      "Epoch 72/100\n",
      "24/24 [==============================] - 0s 826us/step - loss: 0.2198 - accuracy: 0.9107\n",
      "Epoch 73/100\n",
      "24/24 [==============================] - 0s 869us/step - loss: 0.2189 - accuracy: 0.9107\n",
      "Epoch 74/100\n",
      "24/24 [==============================] - 0s 826us/step - loss: 0.2181 - accuracy: 0.9107\n",
      "Epoch 75/100\n",
      "24/24 [==============================] - 0s 870us/step - loss: 0.2173 - accuracy: 0.9107\n",
      "Epoch 76/100\n",
      "24/24 [==============================] - 0s 957us/step - loss: 0.2165 - accuracy: 0.9133\n",
      "Epoch 77/100\n",
      "24/24 [==============================] - 0s 913us/step - loss: 0.2157 - accuracy: 0.9120\n",
      "Epoch 78/100\n",
      "24/24 [==============================] - 0s 869us/step - loss: 0.2147 - accuracy: 0.9147\n",
      "Epoch 79/100\n",
      "24/24 [==============================] - 0s 957us/step - loss: 0.2139 - accuracy: 0.9147\n",
      "Epoch 80/100\n",
      "24/24 [==============================] - 0s 1ms/step - loss: 0.2130 - accuracy: 0.9147\n",
      "Epoch 81/100\n",
      "24/24 [==============================] - 0s 1ms/step - loss: 0.2121 - accuracy: 0.9147\n",
      "Epoch 82/100\n",
      "24/24 [==============================] - 0s 1ms/step - loss: 0.2112 - accuracy: 0.9147\n",
      "Epoch 83/100\n",
      "24/24 [==============================] - 0s 1ms/step - loss: 0.2103 - accuracy: 0.9147\n",
      "Epoch 84/100\n",
      "24/24 [==============================] - 0s 826us/step - loss: 0.2094 - accuracy: 0.9147\n",
      "Epoch 85/100\n",
      "24/24 [==============================] - 0s 913us/step - loss: 0.2085 - accuracy: 0.9147\n",
      "Epoch 86/100\n",
      "24/24 [==============================] - 0s 1ms/step - loss: 0.2076 - accuracy: 0.9160\n",
      "Epoch 87/100\n",
      "24/24 [==============================] - 0s 1ms/step - loss: 0.2066 - accuracy: 0.9160\n",
      "Epoch 88/100\n",
      "24/24 [==============================] - 0s 913us/step - loss: 0.2057 - accuracy: 0.9160\n",
      "Epoch 89/100\n",
      "24/24 [==============================] - 0s 782us/step - loss: 0.2047 - accuracy: 0.9160\n",
      "Epoch 90/100\n",
      "24/24 [==============================] - 0s 783us/step - loss: 0.2038 - accuracy: 0.9160\n",
      "Epoch 91/100\n",
      "24/24 [==============================] - 0s 826us/step - loss: 0.2028 - accuracy: 0.9160\n",
      "Epoch 92/100\n",
      "24/24 [==============================] - 0s 783us/step - loss: 0.2019 - accuracy: 0.9160\n",
      "Epoch 93/100\n",
      "24/24 [==============================] - 0s 826us/step - loss: 0.2009 - accuracy: 0.9160\n",
      "Epoch 94/100\n",
      "24/24 [==============================] - 0s 826us/step - loss: 0.2000 - accuracy: 0.9160\n",
      "Epoch 95/100\n",
      "24/24 [==============================] - 0s 1ms/step - loss: 0.1989 - accuracy: 0.9173\n",
      "Epoch 96/100\n",
      "24/24 [==============================] - 0s 783us/step - loss: 0.1979 - accuracy: 0.9173\n",
      "Epoch 97/100\n",
      "24/24 [==============================] - 0s 826us/step - loss: 0.1969 - accuracy: 0.9200\n",
      "Epoch 98/100\n",
      "24/24 [==============================] - 0s 826us/step - loss: 0.1960 - accuracy: 0.9200\n",
      "Epoch 99/100\n",
      "24/24 [==============================] - 0s 739us/step - loss: 0.1949 - accuracy: 0.9200\n",
      "Epoch 100/100\n",
      "24/24 [==============================] - 0s 870us/step - loss: 0.1940 - accuracy: 0.9200\n"
     ]
    }
   ],
   "source": [
    "# Compile the Sequential model together and customize metrics\n",
    "new_model.compile(loss=\"binary_crossentropy\", optimizer=\"adam\", metrics=[\"accuracy\"])\n",
    "\n",
    "new_fit_model = new_model.fit(X_moon_train_scaled, y_moon_train, epochs=100, shuffle=True)"
   ]
  },
  {
   "cell_type": "markdown",
   "id": "50f25cb2-3979-4c15-8f7d-cae7354fc4bb",
   "metadata": {},
   "source": [
    "#### There are a few means of optimizing a neural network:\n",
    "\n",
    "- Check out your input dataset.\n",
    "- Add more neurons to a hidden layer.\n",
    "- Add additional hidden layers.\n",
    "- Use a different activation function for the hidden layers.\n",
    "- Add additional epochs to the training regimen."
   ]
  },
  {
   "cell_type": "code",
   "execution_count": 67,
   "id": "d0d516b0-2933-401c-aea5-bf2a5dc3f4b9",
   "metadata": {},
   "outputs": [
    {
     "data": {
      "text/plain": [
       "Feature 1    float64\n",
       "Feature 2    float64\n",
       "Target         int64\n",
       "dtype: object"
      ]
     },
     "execution_count": 67,
     "metadata": {},
     "output_type": "execute_result"
    }
   ],
   "source": [
    "df_moons.dtypes"
   ]
  },
  {
   "cell_type": "code",
   "execution_count": 74,
   "id": "058e0600-ea1e-4afd-89b9-6e14a1db451a",
   "metadata": {},
   "outputs": [
    {
     "data": {
      "text/plain": [
       "<AxesSubplot:>"
      ]
     },
     "execution_count": 74,
     "metadata": {},
     "output_type": "execute_result"
    },
    {
     "data": {
      "image/png": "[encoded data removed]",
      "text/plain": [
       "<Figure size 432x288 with 1 Axes>"
      ]
     },
     "metadata": {
      "needs_background": "light"
     },
     "output_type": "display_data"
    }
   ],
   "source": [
    "df_moons[\"Feature 1\"].plot()"
   ]
  },
  {
   "cell_type": "code",
   "execution_count": 73,
   "id": "e417460f-df5d-48e6-b0e7-f091995c943e",
   "metadata": {},
   "outputs": [
    {
     "data": {
      "text/html": [
       "<div>\n",
       "<style scoped>\n",
       "    .dataframe tbody tr th:only-of-type {\n",
       "        vertical-align: middle;\n",
       "    }\n",
       "\n",
       "    .dataframe tbody tr th {\n",
       "        vertical-align: top;\n",
       "    }\n",
       "\n",
       "    .dataframe thead th {\n",
       "        text-align: right;\n",
       "    }\n",
       "</style>\n",
       "<table border=\"1\" class=\"dataframe\">\n",
       "  <thead>\n",
       "    <tr style=\"text-align: right;\">\n",
       "      <th></th>\n",
       "      <th>Feature 1</th>\n",
       "      <th>Feature 2</th>\n",
       "      <th>Target</th>\n",
       "    </tr>\n",
       "  </thead>\n",
       "  <tbody>\n",
       "    <tr>\n",
       "      <th>count</th>\n",
       "      <td>1000.000000</td>\n",
       "      <td>1000.000000</td>\n",
       "      <td>1000.00000</td>\n",
       "    </tr>\n",
       "    <tr>\n",
       "      <th>mean</th>\n",
       "      <td>0.497459</td>\n",
       "      <td>0.249927</td>\n",
       "      <td>0.50000</td>\n",
       "    </tr>\n",
       "    <tr>\n",
       "      <th>std</th>\n",
       "      <td>0.867873</td>\n",
       "      <td>0.499273</td>\n",
       "      <td>0.50025</td>\n",
       "    </tr>\n",
       "    <tr>\n",
       "      <th>min</th>\n",
       "      <td>-1.183650</td>\n",
       "      <td>-0.718449</td>\n",
       "      <td>0.00000</td>\n",
       "    </tr>\n",
       "    <tr>\n",
       "      <th>25%</th>\n",
       "      <td>-0.062536</td>\n",
       "      <td>-0.206882</td>\n",
       "      <td>0.00000</td>\n",
       "    </tr>\n",
       "    <tr>\n",
       "      <th>50%</th>\n",
       "      <td>0.492127</td>\n",
       "      <td>0.249358</td>\n",
       "      <td>0.50000</td>\n",
       "    </tr>\n",
       "    <tr>\n",
       "      <th>75%</th>\n",
       "      <td>1.065532</td>\n",
       "      <td>0.701248</td>\n",
       "      <td>1.00000</td>\n",
       "    </tr>\n",
       "    <tr>\n",
       "      <th>max</th>\n",
       "      <td>2.156435</td>\n",
       "      <td>1.133889</td>\n",
       "      <td>1.00000</td>\n",
       "    </tr>\n",
       "  </tbody>\n",
       "</table>\n",
       "</div>"
      ],
      "text/plain": [
       "         Feature 1    Feature 2      Target\n",
       "count  1000.000000  1000.000000  1000.00000\n",
       "mean      0.497459     0.249927     0.50000\n",
       "std       0.867873     0.499273     0.50025\n",
       "min      -1.183650    -0.718449     0.00000\n",
       "25%      -0.062536    -0.206882     0.00000\n",
       "50%       0.492127     0.249358     0.50000\n",
       "75%       1.065532     0.701248     1.00000\n",
       "max       2.156435     1.133889     1.00000"
      ]
     },
     "execution_count": 73,
     "metadata": {},
     "output_type": "execute_result"
    }
   ],
   "source": [
    "df_moons.describe()"
   ]
  },
  {
   "cell_type": "markdown",
   "id": "4cfc7d90-1c9f-4533-80bb-a0953c8752a1",
   "metadata": {},
   "source": [
    "#### Four most-used activiation functions by data complexity and use case:\n",
    "1. The sigmoid function values are normalized to a probability between 0 and 1, which is ideal for binary classification.\n",
    "2. The tanh function can be used for classification or regression, and it expands the range between -1 and 1.\n",
    "3. The ReLU function is ideal for looking at positive nonlinear input data for classification or regression.\n",
    "4. The Leaky ReLU function is a good alternative for nonlinear input data with many negative inputs."
   ]
  },
  {
   "cell_type": "code",
   "execution_count": null,
   "id": "d40e91f6-4a63-4fd4-b324-50fc5b9c10db",
   "metadata": {},
   "outputs": [],
   "source": []
  }
 ],
 "metadata": {
  "kernelspec": {
   "display_name": "Python (mlenv)",
   "language": "python",
   "name": "mlenv"
  },
  "language_info": {
   "codemirror_mode": {
    "name": "ipython",
    "version": 3
   },
   "file_extension": ".py",
   "mimetype": "text/x-python",
   "name": "python",
   "nbconvert_exporter": "python",
   "pygments_lexer": "ipython3",
   "version": "3.7.11"
  }
 },
 "nbformat": 4,
 "nbformat_minor": 5
}
