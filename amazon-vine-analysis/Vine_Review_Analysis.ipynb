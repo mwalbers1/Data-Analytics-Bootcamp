{
  "nbformat": 4,
  "nbformat_minor": 0,
  "metadata": {
    "colab": {
      "name": "Vine_Review_Analysis.ipynb",
      "provenance": [],
      "collapsed_sections": []
    },
    "kernelspec": {
      "name": "python3",
      "display_name": "Python 3"
    },
    "language_info": {
      "name": "python"
    }
  },
  "cells": [
    {
      "cell_type": "code",
      "execution_count": 1,
      "metadata": {
        "colab": {
          "base_uri": "https://localhost:8080/"
        },
        "id": "4IEDqDuHWKEN",
        "outputId": "caf5bd4b-fa46-4a78-e485-a86b02be49a3"
      },
      "outputs": [
        {
          "output_type": "stream",
          "name": "stdout",
          "text": [
            "Get:1 https://cloud.r-project.org/bin/linux/ubuntu bionic-cran40/ InRelease [3,626 B]\n",
            "Ign:2 https://developer.download.nvidia.com/compute/cuda/repos/ubuntu1804/x86_64  InRelease\n",
            "Get:3 http://security.ubuntu.com/ubuntu bionic-security InRelease [88.7 kB]\n",
            "Hit:4 http://archive.ubuntu.com/ubuntu bionic InRelease\n",
            "Get:5 http://ppa.launchpad.net/c2d4u.team/c2d4u4.0+/ubuntu bionic InRelease [15.9 kB]\n",
            "Get:6 http://archive.ubuntu.com/ubuntu bionic-updates InRelease [88.7 kB]\n",
            "Ign:7 https://developer.download.nvidia.com/compute/machine-learning/repos/ubuntu1804/x86_64  InRelease\n",
            "Hit:8 https://developer.download.nvidia.com/compute/cuda/repos/ubuntu1804/x86_64  Release\n",
            "Hit:9 https://developer.download.nvidia.com/compute/machine-learning/repos/ubuntu1804/x86_64  Release\n",
            "Hit:10 http://ppa.launchpad.net/cran/libgit2/ubuntu bionic InRelease\n",
            "Get:11 http://archive.ubuntu.com/ubuntu bionic-backports InRelease [74.6 kB]\n",
            "Get:12 http://ppa.launchpad.net/deadsnakes/ppa/ubuntu bionic InRelease [15.9 kB]\n",
            "Hit:13 http://ppa.launchpad.net/graphics-drivers/ppa/ubuntu bionic InRelease\n",
            "Get:14 http://ppa.launchpad.net/c2d4u.team/c2d4u4.0+/ubuntu bionic/main Sources [1,819 kB]\n",
            "Get:17 http://ppa.launchpad.net/c2d4u.team/c2d4u4.0+/ubuntu bionic/main amd64 Packages [933 kB]\n",
            "Get:18 http://security.ubuntu.com/ubuntu bionic-security/restricted amd64 Packages [691 kB]\n",
            "Get:19 http://security.ubuntu.com/ubuntu bionic-security/main amd64 Packages [2,461 kB]\n",
            "Get:20 http://security.ubuntu.com/ubuntu bionic-security/universe amd64 Packages [1,446 kB]\n",
            "Get:21 http://archive.ubuntu.com/ubuntu bionic-updates/main amd64 Packages [2,898 kB]\n",
            "Get:22 http://archive.ubuntu.com/ubuntu bionic-updates/universe amd64 Packages [2,228 kB]\n",
            "Get:23 http://ppa.launchpad.net/deadsnakes/ppa/ubuntu bionic/main amd64 Packages [45.9 kB]\n",
            "Fetched 12.8 MB in 4s (2,871 kB/s)\n",
            "Reading package lists... Done\n"
          ]
        }
      ],
      "source": [
        "import os\n",
        "# Find the latest version of spark 3.0 from http://www.apache.org/dist/spark/ and enter as the spark version\n",
        "# For example:\n",
        "# spark_version = 'spark-3.1.2'\n",
        "spark_version = 'spark-3.1.2'\n",
        "os.environ['SPARK_VERSION']=spark_version\n",
        "\n",
        "# Install Spark and Java\n",
        "!apt-get update\n",
        "!apt-get install openjdk-11-jdk-headless -qq > /dev/null\n",
        "!wget -q http://www.apache.org/dist/spark/$SPARK_VERSION/$SPARK_VERSION-bin-hadoop2.7.tgz\n",
        "!tar xf $SPARK_VERSION-bin-hadoop2.7.tgz\n",
        "!pip install -q findspark\n",
        "\n",
        "# Set Environment Variables\n",
        "import os\n",
        "os.environ[\"JAVA_HOME\"] = \"/usr/lib/jvm/java-11-openjdk-amd64\"\n",
        "os.environ[\"SPARK_HOME\"] = f\"/content/{spark_version}-bin-hadoop2.7\"\n",
        "\n",
        "# Start a SparkSession\n",
        "import findspark\n",
        "findspark.init()"
      ]
    },
    {
      "cell_type": "code",
      "source": [
        "from pyspark.sql import SparkSession\n",
        "spark = SparkSession.builder.appName('Vine_Review_Analysis').config(\"spark.driver.extraClassPath\",\"/content/postgresql-42.2.16.jar\").getOrCreate()"
      ],
      "metadata": {
        "id": "Ws8PkTYmWtfC"
      },
      "execution_count": 2,
      "outputs": []
    },
    {
      "cell_type": "markdown",
      "source": [
        "### Load Amazon Review data into DataFrame"
      ],
      "metadata": {
        "id": "isBgjx1_YHjf"
      }
    },
    {
      "cell_type": "code",
      "metadata": {
        "id": "CtCmBhQJY-9Z",
        "colab": {
          "base_uri": "https://localhost:8080/"
        },
        "outputId": "a5d71887-b68a-4eab-9899-be8d28a93aea"
      },
      "source": [
        "from pyspark import SparkFiles\n",
        "url = \"https://s3.amazonaws.com/amazon-reviews-pds/tsv/amazon_reviews_us_Health_Personal_Care_v1_00.tsv.gz\"\n",
        "spark.sparkContext.addFile(url)\n",
        "df = spark.read.option(\"encoding\", \"UTF-8\").csv(SparkFiles.get(\"amazon_reviews_us_Health_Personal_Care_v1_00.tsv.gz\"), sep=\"\\t\", header=True, inferSchema=True)\n",
        "df.show()"
      ],
      "execution_count": 3,
      "outputs": [
        {
          "output_type": "stream",
          "name": "stdout",
          "text": [
            "+-----------+-----------+--------------+----------+--------------+--------------------+--------------------+-----------+-------------+-----------+----+-----------------+--------------------+--------------------+-----------+\n",
            "|marketplace|customer_id|     review_id|product_id|product_parent|       product_title|    product_category|star_rating|helpful_votes|total_votes|vine|verified_purchase|     review_headline|         review_body|review_date|\n",
            "+-----------+-----------+--------------+----------+--------------+--------------------+--------------------+-----------+-------------+-----------+----+-----------------+--------------------+--------------------+-----------+\n",
            "|         US|     650634| R3EQSTM9PWRAL|B0091LBZSU|     578484426|Demograss Capsule...|Health & Personal...|          3|            0|          0|   N|                Y|         Three Stars|Only came with 30...| 2015-08-31|\n",
            "|         US|   19827510| RBWPRK17XKIXD|B00PWW3LQ6|     456433146|Viva Labs #1 Prem...|Health & Personal...|          5|            0|          0|   N|                Y|A good portable s...|Really yummy and ...| 2015-08-31|\n",
            "|         US|    1520474| RRSLOAF273XFC|B00DKEWA92|     460764511|     Whip-it Cleaner|Health & Personal...|          5|            1|          2|   N|                Y|       You need this|You cannot go wro...| 2015-08-31|\n",
            "|         US|   23905905|R3S8W9Q6SWIT8O|B0015R3A7M|     135102038|Optimum Nutrition...|Health & Personal...|          4|            0|          0|   N|                Y|this is a good vi...|This is a good da...| 2015-08-31|\n",
            "|         US|   28215779|R3QQ6NSLRVBFJC|B006B8U8BG|     200666829|Wet-Stop3 Bedwett...|Health & Personal...|          4|            0|          0|   N|                Y|progress is defin...|We have been usin...| 2015-08-31|\n",
            "|         US|   23260912|R2XYDBMHUVJCSX|B00PFZFD8Y|     344168617|NatraCure Plantar...|Health & Personal...|          2|            0|          1|   N|                Y|           Two Stars|I wear it a few t...| 2015-08-31|\n",
            "|         US|    7965616|R1L94ESVC657A9|B0034792JG|     291831570|Glade Sense & Spr...|Health & Personal...|          5|            0|          0|   N|                Y|          Five Stars|Love this product...| 2015-08-31|\n",
            "|         US|    3443178|R3DI4B8LDWFQ3K|B000052XIA|     493678550|Vagisil Anti-Itch...|Health & Personal...|          1|            3|          4|   N|                Y|It still is itchi...|It still is itchi...| 2015-08-31|\n",
            "|         US|   20838781|R1G7VV4HCXUQQL|B004GCUK8A|       3902598|Glade Automatic S...|Health & Personal...|          5|            0|          0|   N|                Y|          Five Stars|               Good!| 2015-08-31|\n",
            "|         US|   15267517|R3TTNYN1TAMUSU|B00K7W1QAO|     633971374|Kirkland Signatur...|Health & Personal...|          5|            0|          0|   N|                Y|      Will buy again|These bags are ma...| 2015-08-31|\n",
            "|         US|   30105089|R3AMX2D9HMWV6Z|B0034KYA36|     854858899|Zyrtec Prescripti...|Health & Personal...|          5|            0|          0|   N|                Y|         Good price!|Delivered product...| 2015-08-31|\n",
            "|         US|    1622207|R3PO3K321GY8HI|B00C7UZTT8|     264608272|Pure Garcinia Cam...|Health & Personal...|          1|            0|          0|   N|                Y|       Doesn't work.|So far I've felt ...| 2015-08-31|\n",
            "|         US|   29856075| RVQ0UNYX6IEVK|B005F9XFN0|     638667060|Now  Better Stevi...|Health & Personal...|          1|            0|          1|   N|                Y|           not quite|Not nearly as goo...| 2015-08-31|\n",
            "|         US|   52319463|R25E9NIGO2XQ3D|B00Q8YSPTU|     130354267|Now Foods Stevia ...|Health & Personal...|          5|            0|          0|   N|                Y|Reasonably priced...|Reasonably priced...| 2015-08-31|\n",
            "|         US|   16857013|R3GIEXIIIR2G9Y|B00N34HBVG|     700530604|Compression Thigh...|Health & Personal...|          1|            0|          0|   N|                Y|DO NOT BUY!!!! Ve...|They are sooooooo...| 2015-08-31|\n",
            "|         US|   12269680|R264BH3U417NXF|B002UN2UKS|     731161248|Brownmed SEAL-TIG...|Health & Personal...|          5|            0|          0|   N|                Y|Worked Great!! Ve...|Worked Great!!  V...| 2015-08-31|\n",
            "|         US|   29116955|R2C6S0XJIMP0Z2|B003265KYK|     719831457|Botanic Choice Gl...|Health & Personal...|          5|            0|          0|   N|                Y|          Five Stars|Great price, on t...| 2015-08-31|\n",
            "|         US|   14533949|R2LRJYGC2YYR2F|B00939J5T6|     377517622|Shibari SHIB-WHT ...|Health & Personal...|          2|            0|          0|   N|                Y|Cant handle long ...|Broke down after ...| 2015-08-31|\n",
            "|         US|   11274313|R3SVW9ZP1CZPW7|B00LJOQKRI|     376583016|Eyekepper 5-pack ...|Health & Personal...|          1|            0|          1|   N|                Y|            One Star|I think the presc...| 2015-08-31|\n",
            "|         US|   14861684|R1GLA6RQUF4Q79|B002TG3QPO|     813956658|Isopure Zero Carb...|Health & Personal...|          4|            0|          0|   N|                Y|          Four Stars|            Loved it| 2015-08-31|\n",
            "+-----------+-----------+--------------+----------+--------------+--------------------+--------------------+-----------+-------------+-----------+----+-----------------+--------------------+--------------------+-----------+\n",
            "only showing top 20 rows\n",
            "\n"
          ]
        }
      ]
    },
    {
      "cell_type": "markdown",
      "source": [
        "### Populate Vine DataFrame"
      ],
      "metadata": {
        "id": "Znv-GfIkYyf-"
      }
    },
    {
      "cell_type": "code",
      "metadata": {
        "id": "lzMmkdKmY--D",
        "colab": {
          "base_uri": "https://localhost:8080/"
        },
        "outputId": "2025ee3e-7252-4217-9c2c-4d33300c420e"
      },
      "source": [
        "# Create the vine_table. DataFrame\n",
        "vine_df = df.select([\"review_id\", \"star_rating\", \"helpful_votes\", \"total_votes\", \"vine\", \"verified_purchase\"])\n",
        "vine_df.show()"
      ],
      "execution_count": 4,
      "outputs": [
        {
          "output_type": "stream",
          "name": "stdout",
          "text": [
            "+--------------+-----------+-------------+-----------+----+-----------------+\n",
            "|     review_id|star_rating|helpful_votes|total_votes|vine|verified_purchase|\n",
            "+--------------+-----------+-------------+-----------+----+-----------------+\n",
            "| R3EQSTM9PWRAL|          3|            0|          0|   N|                Y|\n",
            "| RBWPRK17XKIXD|          5|            0|          0|   N|                Y|\n",
            "| RRSLOAF273XFC|          5|            1|          2|   N|                Y|\n",
            "|R3S8W9Q6SWIT8O|          4|            0|          0|   N|                Y|\n",
            "|R3QQ6NSLRVBFJC|          4|            0|          0|   N|                Y|\n",
            "|R2XYDBMHUVJCSX|          2|            0|          1|   N|                Y|\n",
            "|R1L94ESVC657A9|          5|            0|          0|   N|                Y|\n",
            "|R3DI4B8LDWFQ3K|          1|            3|          4|   N|                Y|\n",
            "|R1G7VV4HCXUQQL|          5|            0|          0|   N|                Y|\n",
            "|R3TTNYN1TAMUSU|          5|            0|          0|   N|                Y|\n",
            "|R3AMX2D9HMWV6Z|          5|            0|          0|   N|                Y|\n",
            "|R3PO3K321GY8HI|          1|            0|          0|   N|                Y|\n",
            "| RVQ0UNYX6IEVK|          1|            0|          1|   N|                Y|\n",
            "|R25E9NIGO2XQ3D|          5|            0|          0|   N|                Y|\n",
            "|R3GIEXIIIR2G9Y|          1|            0|          0|   N|                Y|\n",
            "|R264BH3U417NXF|          5|            0|          0|   N|                Y|\n",
            "|R2C6S0XJIMP0Z2|          5|            0|          0|   N|                Y|\n",
            "|R2LRJYGC2YYR2F|          2|            0|          0|   N|                Y|\n",
            "|R3SVW9ZP1CZPW7|          1|            0|          1|   N|                Y|\n",
            "|R1GLA6RQUF4Q79|          4|            0|          0|   N|                Y|\n",
            "+--------------+-----------+-------------+-----------+----+-----------------+\n",
            "only showing top 20 rows\n",
            "\n"
          ]
        }
      ]
    },
    {
      "cell_type": "code",
      "source": [
        "# Create DataFrame with total_votes >= 20\n",
        "from pyspark.sql.functions import col\n",
        "\n",
        "vine_gte_20_df = vine_df.filter(col('total_votes') >= 20)\n",
        "vine_gte_20_df.show()"
      ],
      "metadata": {
        "colab": {
          "base_uri": "https://localhost:8080/"
        },
        "id": "j3N2amnJZZnk",
        "outputId": "e05e0544-26e0-4a5e-ffcd-f00d8c7d6be2"
      },
      "execution_count": 5,
      "outputs": [
        {
          "output_type": "stream",
          "name": "stdout",
          "text": [
            "+--------------+-----------+-------------+-----------+----+-----------------+\n",
            "|     review_id|star_rating|helpful_votes|total_votes|vine|verified_purchase|\n",
            "+--------------+-----------+-------------+-----------+----+-----------------+\n",
            "|R2984F9VD9WDJB|          1|           37|         46|   N|                Y|\n",
            "|R218TGWCIAZYNY|          5|          191|        198|   N|                Y|\n",
            "| RGC2TLSBHLPZA|          5|           49|         50|   N|                Y|\n",
            "|R2YYVOW2RYGRM8|          5|           27|         28|   N|                Y|\n",
            "|R2X4WF89XICSB2|          1|           21|         21|   N|                Y|\n",
            "|R1M1KJ4SQE4INF|          5|           20|         21|   N|                N|\n",
            "|R1M8EEGH2TVS0Q|          1|            6|         29|   N|                Y|\n",
            "| RK8MUEWEUGV6V|          4|          105|        113|   N|                N|\n",
            "|R3JF2SBRHZITRZ|          5|           24|         26|   N|                N|\n",
            "| RLJN73T8WUYIR|          5|          124|        128|   N|                Y|\n",
            "| RYA9ESIATW4EC|          1|           23|         27|   N|                N|\n",
            "|R15RF9IWXWX3IH|          5|           25|         31|   N|                N|\n",
            "|R1GNMWLUMCOC6V|          5|           21|         23|   N|                N|\n",
            "|R3F5N905ZVOXES|          1|            3|         35|   N|                N|\n",
            "|R2SLKTWAJ7BR9K|          5|           33|         36|   N|                Y|\n",
            "|R1NKKJ720BC2VM|          5|           25|         28|   N|                Y|\n",
            "|R3ATNR4AESV090|          4|           38|         40|   N|                Y|\n",
            "|R36XRSNV1M0ADW|          5|           82|         95|   N|                Y|\n",
            "|R203G800OB64XF|          3|           57|         72|   N|                N|\n",
            "|R31LBT37BJZE6B|          1|           14|         20|   N|                Y|\n",
            "+--------------+-----------+-------------+-----------+----+-----------------+\n",
            "only showing top 20 rows\n",
            "\n"
          ]
        }
      ]
    },
    {
      "cell_type": "code",
      "source": [
        "# helpful_pct >= 50%\n",
        "helpful_pct_df = vine_gte_20_df.withColumn('helpful_pct', col('helpful_votes')/col('total_votes'))\n",
        "vine_helpful_pct_df = helpful_pct_df.filter(col('helpful_pct') >= 0.50)\n",
        "vine_helpful_pct_df.show()"
      ],
      "metadata": {
        "colab": {
          "base_uri": "https://localhost:8080/"
        },
        "id": "i0LfKW4MarfZ",
        "outputId": "e2d71dda-93dc-458c-b901-ab2893a00b7d"
      },
      "execution_count": 9,
      "outputs": [
        {
          "output_type": "stream",
          "name": "stdout",
          "text": [
            "+--------------+-----------+-------------+-----------+----+-----------------+------------------+\n",
            "|     review_id|star_rating|helpful_votes|total_votes|vine|verified_purchase|       helpful_pct|\n",
            "+--------------+-----------+-------------+-----------+----+-----------------+------------------+\n",
            "|R2984F9VD9WDJB|          1|           37|         46|   N|                Y|0.8043478260869565|\n",
            "|R218TGWCIAZYNY|          5|          191|        198|   N|                Y|0.9646464646464646|\n",
            "| RGC2TLSBHLPZA|          5|           49|         50|   N|                Y|              0.98|\n",
            "|R2YYVOW2RYGRM8|          5|           27|         28|   N|                Y|0.9642857142857143|\n",
            "|R2X4WF89XICSB2|          1|           21|         21|   N|                Y|               1.0|\n",
            "|R1M1KJ4SQE4INF|          5|           20|         21|   N|                N|0.9523809523809523|\n",
            "| RK8MUEWEUGV6V|          4|          105|        113|   N|                N|0.9292035398230089|\n",
            "|R3JF2SBRHZITRZ|          5|           24|         26|   N|                N|0.9230769230769231|\n",
            "| RLJN73T8WUYIR|          5|          124|        128|   N|                Y|           0.96875|\n",
            "| RYA9ESIATW4EC|          1|           23|         27|   N|                N|0.8518518518518519|\n",
            "|R15RF9IWXWX3IH|          5|           25|         31|   N|                N|0.8064516129032258|\n",
            "|R1GNMWLUMCOC6V|          5|           21|         23|   N|                N|0.9130434782608695|\n",
            "|R2SLKTWAJ7BR9K|          5|           33|         36|   N|                Y|0.9166666666666666|\n",
            "|R1NKKJ720BC2VM|          5|           25|         28|   N|                Y|0.8928571428571429|\n",
            "|R3ATNR4AESV090|          4|           38|         40|   N|                Y|              0.95|\n",
            "|R36XRSNV1M0ADW|          5|           82|         95|   N|                Y|0.8631578947368421|\n",
            "|R203G800OB64XF|          3|           57|         72|   N|                N|0.7916666666666666|\n",
            "|R31LBT37BJZE6B|          1|           14|         20|   N|                Y|               0.7|\n",
            "|R119CG8XK73M2B|          5|           77|         77|   N|                Y|               1.0|\n",
            "| RCOVDTGR8NH87|          5|           59|         67|   N|                N|0.8805970149253731|\n",
            "+--------------+-----------+-------------+-----------+----+-----------------+------------------+\n",
            "only showing top 20 rows\n",
            "\n"
          ]
        }
      ]
    },
    {
      "cell_type": "code",
      "source": [
        "# Paid reviews (vine == 'Y')\n",
        "paid_reviews_df = vine_helpful_pct_df.filter(col('vine') == 'Y')\n",
        "paid_reviews_df.show()"
      ],
      "metadata": {
        "colab": {
          "base_uri": "https://localhost:8080/"
        },
        "id": "OMUUQ7YTbeFI",
        "outputId": "abe6d2ed-d753-429e-894c-70a0f5f9955e"
      },
      "execution_count": 10,
      "outputs": [
        {
          "output_type": "stream",
          "name": "stdout",
          "text": [
            "+--------------+-----------+-------------+-----------+----+-----------------+------------------+\n",
            "|     review_id|star_rating|helpful_votes|total_votes|vine|verified_purchase|       helpful_pct|\n",
            "+--------------+-----------+-------------+-----------+----+-----------------+------------------+\n",
            "| RG70K1HMY4LXX|          4|           37|         44|   Y|                N|0.8409090909090909|\n",
            "|R1DHGTNXDXJ0GB|          5|           78|         93|   Y|                N|0.8387096774193549|\n",
            "|R3B5S3OSA8N6AO|          5|           38|         43|   Y|                N|0.8837209302325582|\n",
            "|R29X0YBS0SBIUP|          5|           56|         74|   Y|                N|0.7567567567567568|\n",
            "|R1ZEDMCU6NYC8Q|          3|           26|         27|   Y|                N|0.9629629629629629|\n",
            "| RVBJM1LUI9X9K|          5|           27|         28|   Y|                N|0.9642857142857143|\n",
            "| R1KASHD9QSDMV|          4|           18|         21|   Y|                N|0.8571428571428571|\n",
            "|R1M3LATUI38MK0|          5|           46|         50|   Y|                N|              0.92|\n",
            "|R20JZQ3AQVYNAU|          4|          103|        113|   Y|                N| 0.911504424778761|\n",
            "|R1EHXYTMBO4D28|          1|           56|         61|   Y|                N|0.9180327868852459|\n",
            "|R3FIEE8HAF008L|          1|           23|         26|   Y|                N|0.8846153846153846|\n",
            "| RZJ5628PIAE8M|          4|           23|         23|   Y|                N|               1.0|\n",
            "|R2YTV8JFB132UU|          5|           29|         35|   Y|                N|0.8285714285714286|\n",
            "| R9B39IY63XE6H|          1|           88|         97|   Y|                N|0.9072164948453608|\n",
            "|R3IYA2K7643J5F|          3|           28|         35|   Y|                N|               0.8|\n",
            "|R25HQLXMBJABQL|          5|           93|         97|   Y|                N|0.9587628865979382|\n",
            "|R1NCMEN9DCHB2U|          3|           92|        100|   Y|                N|              0.92|\n",
            "| RFN5GI4LWX31V|          2|           43|         49|   Y|                N|0.8775510204081632|\n",
            "|R1DLUEYOWRMJ2K|          5|          130|        142|   Y|                N|0.9154929577464789|\n",
            "| RXDWRD20KTQO1|          4|           24|         24|   Y|                N|               1.0|\n",
            "+--------------+-----------+-------------+-----------+----+-----------------+------------------+\n",
            "only showing top 20 rows\n",
            "\n"
          ]
        }
      ]
    },
    {
      "cell_type": "code",
      "source": [
        "# Unpaid reviews (vine == 'N')\n",
        "unpaid_reviews_df = vine_helpful_pct_df.filter(col('vine') == 'N')\n",
        "unpaid_reviews_df.show()"
      ],
      "metadata": {
        "colab": {
          "base_uri": "https://localhost:8080/"
        },
        "id": "pSA9DNIrc5XN",
        "outputId": "c8d35cb6-1c4e-43a0-fd5a-f2f9fff84c54"
      },
      "execution_count": 11,
      "outputs": [
        {
          "output_type": "stream",
          "name": "stdout",
          "text": [
            "+--------------+-----------+-------------+-----------+----+-----------------+------------------+\n",
            "|     review_id|star_rating|helpful_votes|total_votes|vine|verified_purchase|       helpful_pct|\n",
            "+--------------+-----------+-------------+-----------+----+-----------------+------------------+\n",
            "|R2984F9VD9WDJB|          1|           37|         46|   N|                Y|0.8043478260869565|\n",
            "|R218TGWCIAZYNY|          5|          191|        198|   N|                Y|0.9646464646464646|\n",
            "| RGC2TLSBHLPZA|          5|           49|         50|   N|                Y|              0.98|\n",
            "|R2YYVOW2RYGRM8|          5|           27|         28|   N|                Y|0.9642857142857143|\n",
            "|R2X4WF89XICSB2|          1|           21|         21|   N|                Y|               1.0|\n",
            "|R1M1KJ4SQE4INF|          5|           20|         21|   N|                N|0.9523809523809523|\n",
            "| RK8MUEWEUGV6V|          4|          105|        113|   N|                N|0.9292035398230089|\n",
            "|R3JF2SBRHZITRZ|          5|           24|         26|   N|                N|0.9230769230769231|\n",
            "| RLJN73T8WUYIR|          5|          124|        128|   N|                Y|           0.96875|\n",
            "| RYA9ESIATW4EC|          1|           23|         27|   N|                N|0.8518518518518519|\n",
            "|R15RF9IWXWX3IH|          5|           25|         31|   N|                N|0.8064516129032258|\n",
            "|R1GNMWLUMCOC6V|          5|           21|         23|   N|                N|0.9130434782608695|\n",
            "|R2SLKTWAJ7BR9K|          5|           33|         36|   N|                Y|0.9166666666666666|\n",
            "|R1NKKJ720BC2VM|          5|           25|         28|   N|                Y|0.8928571428571429|\n",
            "|R3ATNR4AESV090|          4|           38|         40|   N|                Y|              0.95|\n",
            "|R36XRSNV1M0ADW|          5|           82|         95|   N|                Y|0.8631578947368421|\n",
            "|R203G800OB64XF|          3|           57|         72|   N|                N|0.7916666666666666|\n",
            "|R31LBT37BJZE6B|          1|           14|         20|   N|                Y|               0.7|\n",
            "|R119CG8XK73M2B|          5|           77|         77|   N|                Y|               1.0|\n",
            "| RCOVDTGR8NH87|          5|           59|         67|   N|                N|0.8805970149253731|\n",
            "+--------------+-----------+-------------+-----------+----+-----------------+------------------+\n",
            "only showing top 20 rows\n",
            "\n"
          ]
        }
      ]
    },
    {
      "cell_type": "code",
      "source": [
        "# Total number of reviews\n",
        "total_number_reviews = vine_gte_20_df.count()\n",
        "total_number_reviews"
      ],
      "metadata": {
        "colab": {
          "base_uri": "https://localhost:8080/"
        },
        "id": "LiFKPJrOdXyU",
        "outputId": "b9479288-d1a6-46ec-9eb0-2c2c43f6c3da"
      },
      "execution_count": 21,
      "outputs": [
        {
          "output_type": "execute_result",
          "data": {
            "text/plain": [
              "133416"
            ]
          },
          "metadata": {},
          "execution_count": 21
        }
      ]
    },
    {
      "cell_type": "code",
      "source": [
        "# Total number of 5-star reviews\n",
        "five_star_numb = vine_gte_20_df.filter(col('star_rating') == 5).count()\n",
        "five_star_numb"
      ],
      "metadata": {
        "colab": {
          "base_uri": "https://localhost:8080/"
        },
        "id": "vRu-2p6QeQy2",
        "outputId": "db1bc55d-9a87-4dea-83ea-2f1447a016f9"
      },
      "execution_count": 27,
      "outputs": [
        {
          "output_type": "execute_result",
          "data": {
            "text/plain": [
              "76294"
            ]
          },
          "metadata": {},
          "execution_count": 27
        }
      ]
    },
    {
      "cell_type": "code",
      "source": [
        "# Number of paid 5-star reviews\n",
        "paid_5star_numb = paid_reviews_df.filter(col('star_rating') == 5).count()\n",
        "paid_5star_numb"
      ],
      "metadata": {
        "colab": {
          "base_uri": "https://localhost:8080/"
        },
        "id": "o5-pU1GnfIj9",
        "outputId": "3488915a-10ee-4f1f-f6b0-1f26a0661adc"
      },
      "execution_count": 26,
      "outputs": [
        {
          "output_type": "execute_result",
          "data": {
            "text/plain": [
              "220"
            ]
          },
          "metadata": {},
          "execution_count": 26
        }
      ]
    },
    {
      "cell_type": "code",
      "source": [
        "# Number of unpaid 5-star reviews\n",
        "unpaid_5star_numb = unpaid_reviews_df.filter(col('star_rating') == 5).count()\n",
        "unpaid_5star_numb"
      ],
      "metadata": {
        "colab": {
          "base_uri": "https://localhost:8080/"
        },
        "id": "6fpOPFPufnRs",
        "outputId": "2e9bfb4a-7716-442a-a154-8c58d741c935"
      },
      "execution_count": 30,
      "outputs": [
        {
          "output_type": "execute_result",
          "data": {
            "text/plain": [
              "74470"
            ]
          },
          "metadata": {},
          "execution_count": 30
        }
      ]
    },
    {
      "cell_type": "code",
      "source": [
        "# Percentage of paid 5-star reviews\n",
        "paid_5star_pct = paid_5star_numb/ five_star_numb\n",
        "paid_5star_pct"
      ],
      "metadata": {
        "colab": {
          "base_uri": "https://localhost:8080/"
        },
        "id": "nGusL5X4f3-8",
        "outputId": "a61bbd47-06e6-44d2-d15b-6fdf9e8d0a2a"
      },
      "execution_count": 29,
      "outputs": [
        {
          "output_type": "execute_result",
          "data": {
            "text/plain": [
              "0.0028835819330484706"
            ]
          },
          "metadata": {},
          "execution_count": 29
        }
      ]
    },
    {
      "cell_type": "code",
      "source": [
        "# Percentage of unpaid 5-star reviews\n",
        "unpaid_5star_pct = unpaid_5star_numb / five_star_numb\n",
        "unpaid_5star_pct"
      ],
      "metadata": {
        "colab": {
          "base_uri": "https://localhost:8080/"
        },
        "id": "X3JVkavcgX5n",
        "outputId": "5df6665e-51f4-46a8-d435-deea65fdd560"
      },
      "execution_count": 31,
      "outputs": [
        {
          "output_type": "execute_result",
          "data": {
            "text/plain": [
              "0.9760924843369072"
            ]
          },
          "metadata": {},
          "execution_count": 31
        }
      ]
    },
    {
      "cell_type": "code",
      "source": [
        ""
      ],
      "metadata": {
        "id": "_Wapce1IifA0"
      },
      "execution_count": null,
      "outputs": []
    }
  ]
}