{
 "cells": [
  {
   "cell_type": "markdown",
   "metadata": {},
   "source": [
    "## Deliverable 1: Create a Weather Database"
   ]
  },
  {
   "cell_type": "code",
   "execution_count": 19,
   "metadata": {
    "tags": []
   },
   "outputs": [],
   "source": [
    "import pandas as pd\n",
    "import numpy as np\n",
    "import matplotlib.pyplot as plt"
   ]
  },
  {
   "cell_type": "code",
   "execution_count": 20,
   "metadata": {},
   "outputs": [],
   "source": [
    "import os\n",
    "import sys\n",
    "import requests"
   ]
  },
  {
   "cell_type": "code",
   "execution_count": 21,
   "metadata": {},
   "outputs": [],
   "source": [
    "parent_folder = os.path.dirname(os.getcwd())\n",
    "sys.path.append(parent_folder)"
   ]
  },
  {
   "cell_type": "code",
   "execution_count": 22,
   "metadata": {},
   "outputs": [],
   "source": [
    "from config import weather_api_key\n",
    "from citipy import citipy\n",
    "from datetime import datetime"
   ]
  },
  {
   "cell_type": "code",
   "execution_count": 23,
   "metadata": {},
   "outputs": [],
   "source": [
    "def get_cities_list(size=2000):\n",
    "    \"\"\"\n",
    "    Get random list of cities \n",
    "    \n",
    "    args:\n",
    "        size: number of random cities to return\n",
    "        \n",
    "    returns:\n",
    "        cities: list of nearest cities generated from tuple of random latitude and longitude values\n",
    "    \"\"\"\n",
    "    lats = np.random.uniform(low=-90, high=90.0, size=size)\n",
    "    lngs = np.random.uniform(low=-180, high=180, size=size)\n",
    "    \n",
    "    coordinates = list(zip(lats, lngs))\n",
    "    cities = []\n",
    "    \n",
    "    # Identify the nearest city for each latitude and longitude combination\n",
    "    for coordinate in coordinates:\n",
    "        city = citipy.nearest_city(coordinate[0], coordinate[1]).city_name\n",
    "    \n",
    "        # add to cities list\n",
    "        if city not in cities:\n",
    "            cities.append(city)\n",
    "            \n",
    "    return cities "
   ]
  },
  {
   "cell_type": "markdown",
   "metadata": {},
   "source": [
    "## Generate Random World Cities"
   ]
  },
  {
   "cell_type": "code",
   "execution_count": 24,
   "metadata": {},
   "outputs": [],
   "source": [
    "cities = get_cities_list(2000)"
   ]
  },
  {
   "cell_type": "markdown",
   "metadata": {},
   "source": [
    "## Get City Weather Data"
   ]
  },
  {
   "cell_type": "code",
   "execution_count": 25,
   "metadata": {},
   "outputs": [],
   "source": [
    "def read_city_weather_data(base_url):\n",
    "    \"\"\"\n",
    "    Iterate through each city in cities list created in previous cell. For each city, call OpenWeather API for weather data\n",
    "    \n",
    "    args:\n",
    "        base_url: base url for OpenWeather API call\n",
    "    \n",
    "    returns:\n",
    "        Yield one dictionary of weather data at a time\n",
    "    \"\"\"\n",
    "    \n",
    "    for i, city in enumerate(cities):\n",
    "            try:\n",
    "                city_arg = city.replace(\" \",\"+\")\n",
    "                city_url = f\"{base_url}&q={city_arg}\"\n",
    "                city_weather = requests.get(city_url).json()\n",
    "\n",
    "                yield {\n",
    "                        \"City\": city.title(),\n",
    "                        \"Lat\": city_weather[\"coord\"][\"lat\"],\n",
    "                        \"Lng\": city_weather[\"coord\"][\"lon\"],\n",
    "                        \"Max Temp\": city_weather[\"main\"][\"temp_max\"],\n",
    "                        \"Humidity\": city_weather[\"main\"][\"humidity\"],\n",
    "                        \"Cloudiness\": city_weather[\"clouds\"][\"all\"],\n",
    "                        \"Wind Speed\": city_weather[\"wind\"][\"speed\"],\n",
    "                        \"Country\": city_weather[\"sys\"][\"country\"],\n",
    "                        \"Date\": datetime.utcfromtimestamp(city_weather[\"dt\"]).strftime(\"%Y-%m-%d %H:%M:S\"),\n",
    "                        \"Current Description\": city_weather[\"weather\"][0][\"description\"]\n",
    "                    }             \n",
    "            except:\n",
    "                print(f\"Weather data not available for {city}\")\n",
    "                continue\n"
   ]
  },
  {
   "cell_type": "code",
   "execution_count": 26,
   "metadata": {},
   "outputs": [],
   "source": [
    "base_url = \"http://api.openweathermap.org/data/2.5/weather?units=Imperial&APPID=\" + weather_api_key"
   ]
  },
  {
   "cell_type": "code",
   "execution_count": 27,
   "metadata": {},
   "outputs": [],
   "source": [
    "city_weather_list = []\n",
    "for w in read_city_weather_data(base_url):\n",
    "    city_weather_list.append(w)"
   ]
  },
  {
   "cell_type": "code",
   "execution_count": 28,
   "metadata": {},
   "outputs": [],
   "source": [
    "city_weather_df = pd.DataFrame(city_weather_list)"
   ]
  },
  {
   "cell_type": "code",
   "execution_count": 29,
   "metadata": {},
   "outputs": [],
   "source": [
    "new_col_order = ['City', 'Country', 'Lat', 'Lng', 'Max Temp', 'Humidity', 'Cloudiness', 'Wind Speed', 'Current Description']\n",
    "city_weather_df = city_weather_df[new_col_order]"
   ]
  },
  {
   "cell_type": "code",
   "execution_count": 30,
   "metadata": {},
   "outputs": [],
   "source": [
    "city_weather_df.set_index(\"City\", inplace=True)"
   ]
  },
  {
   "cell_type": "code",
   "execution_count": 31,
   "metadata": {},
   "outputs": [
    {
     "data": {
      "text/html": [
       "<div>\n",
       "<style scoped>\n",
       "    .dataframe tbody tr th:only-of-type {\n",
       "        vertical-align: middle;\n",
       "    }\n",
       "\n",
       "    .dataframe tbody tr th {\n",
       "        vertical-align: top;\n",
       "    }\n",
       "\n",
       "    .dataframe thead th {\n",
       "        text-align: right;\n",
       "    }\n",
       "</style>\n",
       "<table border=\"1\" class=\"dataframe\">\n",
       "  <thead>\n",
       "    <tr style=\"text-align: right;\">\n",
       "      <th></th>\n",
       "      <th>Country</th>\n",
       "      <th>Lat</th>\n",
       "      <th>Lng</th>\n",
       "      <th>Max Temp</th>\n",
       "      <th>Humidity</th>\n",
       "      <th>Cloudiness</th>\n",
       "      <th>Wind Speed</th>\n",
       "      <th>Current Description</th>\n",
       "    </tr>\n",
       "    <tr>\n",
       "      <th>City</th>\n",
       "      <th></th>\n",
       "      <th></th>\n",
       "      <th></th>\n",
       "      <th></th>\n",
       "      <th></th>\n",
       "      <th></th>\n",
       "      <th></th>\n",
       "      <th></th>\n",
       "    </tr>\n",
       "  </thead>\n",
       "  <tbody>\n",
       "    <tr>\n",
       "      <th>Boston</th>\n",
       "      <td>US</td>\n",
       "      <td>42.3584</td>\n",
       "      <td>-71.0598</td>\n",
       "      <td>71.55</td>\n",
       "      <td>69</td>\n",
       "      <td>40</td>\n",
       "      <td>8.99</td>\n",
       "      <td>scattered clouds</td>\n",
       "    </tr>\n",
       "    <tr>\n",
       "      <th>New York</th>\n",
       "      <td>US</td>\n",
       "      <td>40.7143</td>\n",
       "      <td>-74.0060</td>\n",
       "      <td>75.76</td>\n",
       "      <td>53</td>\n",
       "      <td>40</td>\n",
       "      <td>11.50</td>\n",
       "      <td>scattered clouds</td>\n",
       "    </tr>\n",
       "    <tr>\n",
       "      <th>Bethesda</th>\n",
       "      <td>US</td>\n",
       "      <td>38.9807</td>\n",
       "      <td>-77.1003</td>\n",
       "      <td>74.17</td>\n",
       "      <td>65</td>\n",
       "      <td>40</td>\n",
       "      <td>1.01</td>\n",
       "      <td>scattered clouds</td>\n",
       "    </tr>\n",
       "    <tr>\n",
       "      <th>Chicago</th>\n",
       "      <td>US</td>\n",
       "      <td>41.8500</td>\n",
       "      <td>-87.6500</td>\n",
       "      <td>74.03</td>\n",
       "      <td>79</td>\n",
       "      <td>40</td>\n",
       "      <td>5.99</td>\n",
       "      <td>scattered clouds</td>\n",
       "    </tr>\n",
       "    <tr>\n",
       "      <th>Tampa</th>\n",
       "      <td>US</td>\n",
       "      <td>27.9475</td>\n",
       "      <td>-82.4584</td>\n",
       "      <td>84.22</td>\n",
       "      <td>65</td>\n",
       "      <td>75</td>\n",
       "      <td>0.00</td>\n",
       "      <td>broken clouds</td>\n",
       "    </tr>\n",
       "  </tbody>\n",
       "</table>\n",
       "</div>"
      ],
      "text/plain": [
       "         Country      Lat      Lng  Max Temp  Humidity  Cloudiness  \\\n",
       "City                                                                 \n",
       "Boston        US  42.3584 -71.0598     71.55        69          40   \n",
       "New York      US  40.7143 -74.0060     75.76        53          40   \n",
       "Bethesda      US  38.9807 -77.1003     74.17        65          40   \n",
       "Chicago       US  41.8500 -87.6500     74.03        79          40   \n",
       "Tampa         US  27.9475 -82.4584     84.22        65          75   \n",
       "\n",
       "          Wind Speed Current Description  \n",
       "City                                      \n",
       "Boston          8.99    scattered clouds  \n",
       "New York       11.50    scattered clouds  \n",
       "Bethesda        1.01    scattered clouds  \n",
       "Chicago         5.99    scattered clouds  \n",
       "Tampa           0.00       broken clouds  "
      ]
     },
     "execution_count": 31,
     "metadata": {},
     "output_type": "execute_result"
    }
   ],
   "source": [
    "city_weather_df.head(25)"
   ]
  },
  {
   "cell_type": "code",
   "execution_count": 32,
   "metadata": {},
   "outputs": [],
   "source": [
    "city_weather_df.to_csv('WeatherPy_Database.csv')"
   ]
  },
  {
   "cell_type": "code",
   "execution_count": null,
   "metadata": {},
   "outputs": [],
   "source": []
  }
 ],
 "metadata": {
  "kernelspec": {
   "display_name": "PythonData",
   "language": "python",
   "name": "pythondata"
  },
  "language_info": {
   "codemirror_mode": {
    "name": "ipython",
    "version": 3
   },
   "file_extension": ".py",
   "mimetype": "text/x-python",
   "name": "python",
   "nbconvert_exporter": "python",
   "pygments_lexer": "ipython3",
   "version": "3.7.11"
  }
 },
 "nbformat": 4,
 "nbformat_minor": 5
}
