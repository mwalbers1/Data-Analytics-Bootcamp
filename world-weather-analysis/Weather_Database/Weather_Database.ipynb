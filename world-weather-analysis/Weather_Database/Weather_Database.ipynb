{
 "cells": [
  {
   "cell_type": "markdown",
   "metadata": {},
   "source": [
    "## Deliverable 1: Create a Weather Database"
   ]
  },
  {
   "cell_type": "code",
   "execution_count": 1,
   "metadata": {
    "tags": []
   },
   "outputs": [],
   "source": [
    "import pandas as pd\n",
    "import numpy as np\n",
    "import matplotlib.pyplot as plt"
   ]
  },
  {
   "cell_type": "code",
   "execution_count": 2,
   "metadata": {},
   "outputs": [],
   "source": [
    "import os\n",
    "import sys\n",
    "import requests"
   ]
  },
  {
   "cell_type": "code",
   "execution_count": 3,
   "metadata": {},
   "outputs": [],
   "source": [
    "parent_folder = os.path.dirname(os.getcwd())\n",
    "sys.path.append(parent_folder)"
   ]
  },
  {
   "cell_type": "code",
   "execution_count": 4,
   "metadata": {},
   "outputs": [],
   "source": [
    "from config import weather_api_key\n",
    "from citipy import citipy\n",
    "from datetime import datetime"
   ]
  },
  {
   "cell_type": "code",
   "execution_count": 5,
   "metadata": {},
   "outputs": [],
   "source": [
    "def get_cities_list(size=2000):\n",
    "    \"\"\"\n",
    "    Get random list of cities \n",
    "    \n",
    "    args:\n",
    "        size: number of random cities to return\n",
    "        \n",
    "    returns:\n",
    "        cities: list of nearest cities generated from tuple of random latitude and longitude values\n",
    "    \"\"\"\n",
    "    lats = np.random.uniform(low=-90, high=90.0, size=size)\n",
    "    lngs = np.random.uniform(low=-180, high=180, size=size)\n",
    "    \n",
    "    coordinates = list(zip(lats, lngs))\n",
    "    cities = []\n",
    "    \n",
    "    # Identify the nearest city for each latitude and longitude combination\n",
    "    for coordinate in coordinates:\n",
    "        city = citipy.nearest_city(coordinate[0], coordinate[1]).city_name\n",
    "    \n",
    "        # add to cities list\n",
    "        if city not in cities:\n",
    "            cities.append(city)\n",
    "            \n",
    "    return cities "
   ]
  },
  {
   "cell_type": "markdown",
   "metadata": {},
   "source": [
    "## Generate Random World Cities"
   ]
  },
  {
   "cell_type": "code",
   "execution_count": 6,
   "metadata": {},
   "outputs": [],
   "source": [
    "#cities = get_cities_list(2000)\n",
    "cities = [\"Boston\", \"New York\", \"Bethesda\", \"Chicago\", \"Tampa\"]"
   ]
  },
  {
   "cell_type": "markdown",
   "metadata": {},
   "source": [
    "## Get City Weather Data"
   ]
  },
  {
   "cell_type": "code",
   "execution_count": 10,
   "metadata": {},
   "outputs": [],
   "source": [
    "def read_city_weather_data(base_url):\n",
    "    \"\"\"\n",
    "    Iterage through each city in cities list passed in. For each city, call OpenWeather API for weather data\n",
    "    \n",
    "    args:\n",
    "        base_url: base url for OpenWeather API call\n",
    "        cities: list of cities to retrieve weather conditions on\n",
    "    \n",
    "    returns:\n",
    "        dictionary of weather data, yielding one city at a time\n",
    "    \"\"\"\n",
    "    \n",
    "    for i, city in enumerate(cities):\n",
    "            try:\n",
    "                city_arg = city.replace(\" \",\"+\")\n",
    "                city_url = f\"{base_url}&q={city_arg}\"\n",
    "                city_weather = requests.get(city_url).json()\n",
    "\n",
    "                yield {\n",
    "                        \"City\": city.title(),\n",
    "                        \"Lat\": city_weather[\"coord\"][\"lat\"],\n",
    "                        \"Lng\": city_weather[\"coord\"][\"lon\"],\n",
    "                        \"Max Temp\": city_weather[\"main\"][\"temp_max\"],\n",
    "                        \"Humidity\": city_weather[\"main\"][\"humidity\"],\n",
    "                        \"Cloudiness\": city_weather[\"clouds\"][\"all\"],\n",
    "                        \"Wind Speed\": city_weather[\"wind\"][\"speed\"],\n",
    "                        \"Country\": city_weather[\"sys\"][\"country\"],\n",
    "                        \"Date\": datetime.utcfromtimestamp(city_weather[\"dt\"]).strftime(\"%Y-%m-%d %H:%M:S\"),\n",
    "                        \"Current Description\": city_weather[\"weather\"][0][\"description\"]\n",
    "                    }             \n",
    "            except:\n",
    "                print(f\"Weather data not available for {city}\")\n",
    "                continue\n"
   ]
  },
  {
   "cell_type": "code",
   "execution_count": 11,
   "metadata": {},
   "outputs": [],
   "source": [
    "base_url = \"http://api.openweathermap.org/data/2.5/weather?units=Imperial&APPID=\" + weather_api_key"
   ]
  },
  {
   "cell_type": "code",
   "execution_count": 12,
   "metadata": {},
   "outputs": [],
   "source": [
    "city_weather_list = []\n",
    "for w in read_city_weather_data(base_url):\n",
    "    city_weather_list.append(w)"
   ]
  },
  {
   "cell_type": "code",
   "execution_count": 13,
   "metadata": {},
   "outputs": [],
   "source": [
    "city_weather_df = pd.DataFrame(city_weather_list)"
   ]
  },
  {
   "cell_type": "code",
   "execution_count": 14,
   "metadata": {},
   "outputs": [],
   "source": [
    "new_col_order = ['City', 'Country', 'Lat', 'Lng', 'Max Temp', 'Humidity', 'Cloudiness', 'Wind Speed', 'Current Description']\n",
    "city_weather_df = city_weather_df[new_col_order]"
   ]
  },
  {
   "cell_type": "code",
   "execution_count": 15,
   "metadata": {},
   "outputs": [],
   "source": [
    "city_weather_df.set_index(\"City\", inplace=True)"
   ]
  },
  {
   "cell_type": "code",
   "execution_count": 16,
   "metadata": {},
   "outputs": [
    {
     "data": {
      "text/html": [
       "<div>\n",
       "<style scoped>\n",
       "    .dataframe tbody tr th:only-of-type {\n",
       "        vertical-align: middle;\n",
       "    }\n",
       "\n",
       "    .dataframe tbody tr th {\n",
       "        vertical-align: top;\n",
       "    }\n",
       "\n",
       "    .dataframe thead th {\n",
       "        text-align: right;\n",
       "    }\n",
       "</style>\n",
       "<table border=\"1\" class=\"dataframe\">\n",
       "  <thead>\n",
       "    <tr style=\"text-align: right;\">\n",
       "      <th></th>\n",
       "      <th>Country</th>\n",
       "      <th>Lat</th>\n",
       "      <th>Lng</th>\n",
       "      <th>Max Temp</th>\n",
       "      <th>Humidity</th>\n",
       "      <th>Cloudiness</th>\n",
       "      <th>Wind Speed</th>\n",
       "      <th>Current Description</th>\n",
       "    </tr>\n",
       "    <tr>\n",
       "      <th>City</th>\n",
       "      <th></th>\n",
       "      <th></th>\n",
       "      <th></th>\n",
       "      <th></th>\n",
       "      <th></th>\n",
       "      <th></th>\n",
       "      <th></th>\n",
       "      <th></th>\n",
       "    </tr>\n",
       "  </thead>\n",
       "  <tbody>\n",
       "    <tr>\n",
       "      <th>Boston</th>\n",
       "      <td>US</td>\n",
       "      <td>42.3584</td>\n",
       "      <td>-71.0598</td>\n",
       "      <td>73.58</td>\n",
       "      <td>59</td>\n",
       "      <td>57</td>\n",
       "      <td>7.00</td>\n",
       "      <td>broken clouds</td>\n",
       "    </tr>\n",
       "    <tr>\n",
       "      <th>New York</th>\n",
       "      <td>US</td>\n",
       "      <td>40.7143</td>\n",
       "      <td>-74.0060</td>\n",
       "      <td>79.95</td>\n",
       "      <td>47</td>\n",
       "      <td>1</td>\n",
       "      <td>11.50</td>\n",
       "      <td>clear sky</td>\n",
       "    </tr>\n",
       "    <tr>\n",
       "      <th>Bethesda</th>\n",
       "      <td>US</td>\n",
       "      <td>38.9807</td>\n",
       "      <td>-77.1003</td>\n",
       "      <td>80.22</td>\n",
       "      <td>47</td>\n",
       "      <td>1</td>\n",
       "      <td>8.01</td>\n",
       "      <td>clear sky</td>\n",
       "    </tr>\n",
       "    <tr>\n",
       "      <th>Chicago</th>\n",
       "      <td>US</td>\n",
       "      <td>41.8500</td>\n",
       "      <td>-87.6500</td>\n",
       "      <td>82.99</td>\n",
       "      <td>47</td>\n",
       "      <td>4</td>\n",
       "      <td>4.00</td>\n",
       "      <td>clear sky</td>\n",
       "    </tr>\n",
       "    <tr>\n",
       "      <th>Tampa</th>\n",
       "      <td>US</td>\n",
       "      <td>27.9475</td>\n",
       "      <td>-82.4584</td>\n",
       "      <td>88.95</td>\n",
       "      <td>56</td>\n",
       "      <td>75</td>\n",
       "      <td>1.01</td>\n",
       "      <td>broken clouds</td>\n",
       "    </tr>\n",
       "  </tbody>\n",
       "</table>\n",
       "</div>"
      ],
      "text/plain": [
       "         Country      Lat      Lng  Max Temp  Humidity  Cloudiness  \\\n",
       "City                                                                 \n",
       "Boston        US  42.3584 -71.0598     73.58        59          57   \n",
       "New York      US  40.7143 -74.0060     79.95        47           1   \n",
       "Bethesda      US  38.9807 -77.1003     80.22        47           1   \n",
       "Chicago       US  41.8500 -87.6500     82.99        47           4   \n",
       "Tampa         US  27.9475 -82.4584     88.95        56          75   \n",
       "\n",
       "          Wind Speed Current Description  \n",
       "City                                      \n",
       "Boston          7.00       broken clouds  \n",
       "New York       11.50           clear sky  \n",
       "Bethesda        8.01           clear sky  \n",
       "Chicago         4.00           clear sky  \n",
       "Tampa           1.01       broken clouds  "
      ]
     },
     "execution_count": 16,
     "metadata": {},
     "output_type": "execute_result"
    }
   ],
   "source": [
    "city_weather_df.head(25)"
   ]
  },
  {
   "cell_type": "code",
   "execution_count": 17,
   "metadata": {},
   "outputs": [],
   "source": [
    "city_weather_df.to_csv('WeatherPy_Database.csv')"
   ]
  },
  {
   "cell_type": "code",
   "execution_count": null,
   "metadata": {},
   "outputs": [],
   "source": []
  }
 ],
 "metadata": {
  "kernelspec": {
   "display_name": "PythonData",
   "language": "python",
   "name": "pythondata"
  },
  "language_info": {
   "codemirror_mode": {
    "name": "ipython",
    "version": 3
   },
   "file_extension": ".py",
   "mimetype": "text/x-python",
   "name": "python",
   "nbconvert_exporter": "python",
   "pygments_lexer": "ipython3",
   "version": "3.7.11"
  }
 },
 "nbformat": 4,
 "nbformat_minor": 5
}
