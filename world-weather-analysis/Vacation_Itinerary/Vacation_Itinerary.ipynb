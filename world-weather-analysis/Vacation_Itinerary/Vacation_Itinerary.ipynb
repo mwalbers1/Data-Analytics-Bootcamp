{
 "cells": [
  {
   "cell_type": "markdown",
   "metadata": {},
   "source": [
    "## Deliverable 3: Create a Travel Itinerary Map"
   ]
  },
  {
   "cell_type": "code",
   "execution_count": 85,
   "metadata": {},
   "outputs": [],
   "source": [
    "# Dependencies and Setup\n",
    "import pandas as pd\n",
    "import requests\n",
    "import gmaps\n",
    "\n",
    "# Import API key\n",
    "import os\n",
    "import sys\n",
    "\n",
    "parent_folder = os.path.dirname(os.getcwd())\n",
    "sys.path.append(parent_folder)\n",
    "\n",
    "from config import g_key\n",
    "\n",
    "# Configure gmaps\n",
    "gmaps.configure(api_key=g_key)"
   ]
  },
  {
   "cell_type": "code",
   "execution_count": 86,
   "metadata": {},
   "outputs": [
    {
     "data": {
      "text/html": [
       "<div>\n",
       "<style scoped>\n",
       "    .dataframe tbody tr th:only-of-type {\n",
       "        vertical-align: middle;\n",
       "    }\n",
       "\n",
       "    .dataframe tbody tr th {\n",
       "        vertical-align: top;\n",
       "    }\n",
       "\n",
       "    .dataframe thead th {\n",
       "        text-align: right;\n",
       "    }\n",
       "</style>\n",
       "<table border=\"1\" class=\"dataframe\">\n",
       "  <thead>\n",
       "    <tr style=\"text-align: right;\">\n",
       "      <th></th>\n",
       "      <th>City_ID</th>\n",
       "      <th>Country</th>\n",
       "      <th>Max Temp</th>\n",
       "      <th>Current Description</th>\n",
       "      <th>Lat</th>\n",
       "      <th>Lng</th>\n",
       "      <th>Hotel Name</th>\n",
       "    </tr>\n",
       "  </thead>\n",
       "  <tbody>\n",
       "    <tr>\n",
       "      <th>0</th>\n",
       "      <td>Boston</td>\n",
       "      <td>US</td>\n",
       "      <td>71.55</td>\n",
       "      <td>scattered clouds</td>\n",
       "      <td>42.3584</td>\n",
       "      <td>-71.0598</td>\n",
       "      <td>Kimpton Nine Zero Hotel</td>\n",
       "    </tr>\n",
       "    <tr>\n",
       "      <th>1</th>\n",
       "      <td>New York</td>\n",
       "      <td>US</td>\n",
       "      <td>75.76</td>\n",
       "      <td>scattered clouds</td>\n",
       "      <td>40.7143</td>\n",
       "      <td>-74.0060</td>\n",
       "      <td>Duane Street Hotel</td>\n",
       "    </tr>\n",
       "    <tr>\n",
       "      <th>2</th>\n",
       "      <td>Bethesda</td>\n",
       "      <td>US</td>\n",
       "      <td>74.17</td>\n",
       "      <td>scattered clouds</td>\n",
       "      <td>38.9807</td>\n",
       "      <td>-77.1003</td>\n",
       "      <td>Hyatt Regency Bethesda</td>\n",
       "    </tr>\n",
       "    <tr>\n",
       "      <th>3</th>\n",
       "      <td>Chicago</td>\n",
       "      <td>US</td>\n",
       "      <td>74.03</td>\n",
       "      <td>scattered clouds</td>\n",
       "      <td>41.8500</td>\n",
       "      <td>-87.6500</td>\n",
       "      <td>Chinatown Hotel</td>\n",
       "    </tr>\n",
       "    <tr>\n",
       "      <th>4</th>\n",
       "      <td>Tampa</td>\n",
       "      <td>US</td>\n",
       "      <td>84.22</td>\n",
       "      <td>broken clouds</td>\n",
       "      <td>27.9475</td>\n",
       "      <td>-82.4584</td>\n",
       "      <td>Hilton Tampa Downtown</td>\n",
       "    </tr>\n",
       "  </tbody>\n",
       "</table>\n",
       "</div>"
      ],
      "text/plain": [
       "    City_ID Country  Max Temp Current Description      Lat      Lng  \\\n",
       "0    Boston      US     71.55    scattered clouds  42.3584 -71.0598   \n",
       "1  New York      US     75.76    scattered clouds  40.7143 -74.0060   \n",
       "2  Bethesda      US     74.17    scattered clouds  38.9807 -77.1003   \n",
       "3   Chicago      US     74.03    scattered clouds  41.8500 -87.6500   \n",
       "4     Tampa      US     84.22       broken clouds  27.9475 -82.4584   \n",
       "\n",
       "                Hotel Name  \n",
       "0  Kimpton Nine Zero Hotel  \n",
       "1       Duane Street Hotel  \n",
       "2   Hyatt Regency Bethesda  \n",
       "3          Chinatown Hotel  \n",
       "4    Hilton Tampa Downtown  "
      ]
     },
     "execution_count": 86,
     "metadata": {},
     "output_type": "execute_result"
    }
   ],
   "source": [
    "# 1. Read the WeatherPy_vacation.csv into a DataFrame.\n",
    "vacation_df = pd.read_csv(\"../Vacation_Search/WeatherPy_vacation.csv\")\n",
    "vacation_df.head()"
   ]
  },
  {
   "cell_type": "code",
   "execution_count": 87,
   "metadata": {},
   "outputs": [],
   "source": [
    "def get_info_box_template():\n",
    "    \"\"\"\n",
    "    Return info box template string to be used for pop-ups on google maps\n",
    "    \"\"\"\n",
    "    \n",
    "    info_box_template = \\\n",
    "    \"\"\"<dl>\n",
    "    <dt>Hotel Name</dt><dd>{Hotel Name}</dd>\n",
    "    <dt>City</dt><dd>{City_ID}</dd>\n",
    "    <dt>Country</dt><dd>{Country}</dd>\n",
    "    <dt>Weather Description</dt><dd>{Current Description}</dd>\n",
    "    <dt>Max Temp</dt><dd>{Max Temp} °F</dd>\n",
    "    </dl>\n",
    "    \"\"\"\n",
    "    \n",
    "    return info_box_template"
   ]
  },
  {
   "cell_type": "code",
   "execution_count": 88,
   "metadata": {},
   "outputs": [],
   "source": [
    "# 2. Using the template add the city name, the country code, the weather description and maximum temperature for the city.\n",
    "info_box_template = get_info_box_template()\n",
    "\n",
    "# 3a. Get the data from each row and add it to the formatting template and store the data in a list.\n",
    "vacation_info = [info_box_template.format(**row) for index, row in vacation_df.iterrows()]\n",
    "\n",
    "# 3b. Get the latitude and longitude from each row and store in a new DataFrame.\n",
    "locations = vacation_df[[\"Lat\", \"Lng\"]]"
   ]
  },
  {
   "cell_type": "code",
   "execution_count": 89,
   "metadata": {},
   "outputs": [],
   "source": [
    "def create_heat_map(locations, weights, marker_info=None):\n",
    "    \"\"\"\n",
    "    create new heat map with gmaps for locations and weights passed in\n",
    "    \n",
    "    args:\n",
    "        locations: DataFrame with two columns [[\"Lat\", \"Lng\"]]\n",
    "        weights: List of max temperatures or humidity, or another weather metric\n",
    "    \"\"\" \n",
    "    # create figure\n",
    "    fig = gmaps.figure(center=(30.0, 31.0), zoom_level=1.5)\n",
    "    \n",
    "    heat_layer = gmaps.heatmap_layer(locations, weights, dissipating=False, max_intensity=300, point_radius=4)\n",
    "        \n",
    "    # add the heatmap layers\n",
    "    fig.add_layer(heat_layer)\n",
    "\n",
    "    # add marker layer if marker_info argument is provided\n",
    "    if (marker_info != None):\n",
    "        marker_layer = gmaps.marker_layer(locations, info_box_content=marker_info)\n",
    "        fig.add_layer(marker_layer)\n",
    "\n",
    "    \n",
    "    # call figure to plot the data\n",
    "    return fig"
   ]
  },
  {
   "cell_type": "code",
   "execution_count": 90,
   "metadata": {},
   "outputs": [
    {
     "data": {
      "application/vnd.jupyter.widget-view+json": {
       "model_id": "4c78cc8fb52c46d2923717530d3a4e7f",
       "version_major": 2,
       "version_minor": 0
      },
      "text/plain": [
       "Figure(layout=FigureLayout(height='420px'))"
      ]
     },
     "metadata": {},
     "output_type": "display_data"
    }
   ],
   "source": [
    "# 4a. Add a marker layer for each city to the map. \n",
    "max_temp = vacation_df[\"Max Temp\"]\n",
    "fig = create_heat_map(locations, max_temp, vacation_info)\n",
    "\n",
    "# 4b. Display the figure\n",
    "fig"
   ]
  },
  {
   "cell_type": "code",
   "execution_count": 91,
   "metadata": {},
   "outputs": [],
   "source": [
    "# From the map above pick 4 cities and create a vacation itinerary route to travel between the four cities. \n",
    "# 5. Create DataFrames for each city by filtering the 'vacation_df' using the loc method. \n",
    "# Hint: The starting and ending city should be the same city.\n",
    "\n",
    "vacation_start = vacation_df.loc[vacation_df[\"City_ID\"] == \"Boston\"]\n",
    "vacation_end = vacation_df.loc[vacation_df[\"City_ID\"] == \"Boston\"]\n",
    "vacation_stop1 = vacation_df.loc[vacation_df[\"City_ID\"] == \"New York\"]\n",
    "vacation_stop2 = vacation_df.loc[vacation_df[\"City_ID\"] == \"Bethesda\"] \n",
    "vacation_stop3 = vacation_df.loc[vacation_df[\"City_ID\"] == \"Chicago\"]"
   ]
  },
  {
   "cell_type": "code",
   "execution_count": 92,
   "metadata": {},
   "outputs": [],
   "source": [
    "# 6. Get the latitude-longitude pairs as tuples from each city DataFrame using the to_numpy function and list indexing.\n",
    "start = vacation_start[\"Lat\"].to_numpy()[0], vacation_start[\"Lng\"].to_numpy()[0]\n",
    "end = vacation_end[\"Lat\"].to_numpy()[0], vacation_end[\"Lng\"].to_numpy()[0]\n",
    "stop1 = vacation_stop1[\"Lat\"].to_numpy()[0], vacation_stop1[\"Lng\"].to_numpy()[0]\n",
    "stop2 = vacation_stop2[\"Lat\"].to_numpy()[0], vacation_stop2[\"Lng\"].to_numpy()[0]\n",
    "stop3 = vacation_stop3[\"Lat\"].to_numpy()[0], vacation_stop3[\"Lng\"].to_numpy()[0]"
   ]
  },
  {
   "cell_type": "code",
   "execution_count": 93,
   "metadata": {
    "scrolled": false
   },
   "outputs": [
    {
     "data": {
      "application/vnd.jupyter.widget-view+json": {
       "model_id": "b90b724b98184516b4a3d109880542a6",
       "version_major": 2,
       "version_minor": 0
      },
      "text/plain": [
       "Figure(layout=FigureLayout(height='420px'))"
      ]
     },
     "metadata": {},
     "output_type": "display_data"
    }
   ],
   "source": [
    "# 7. Create a direction layer map using the start and end latitude-longitude pairs,\n",
    "# and stop1, stop2, and stop3 as the waypoints. The travel_mode should be \"DRIVING\", \"BICYCLING\", or \"WALKING\".\n",
    "fig = gmaps.figure()\n",
    "\n",
    "driving_itinerary = gmaps.directions_layer(start, end, waypoints=[stop1, stop2, stop3], travel_mode= 'DRIVING')\n",
    "\n",
    "fig.add_layer(driving_itinerary)\n",
    "fig"
   ]
  },
  {
   "cell_type": "code",
   "execution_count": 94,
   "metadata": {},
   "outputs": [
    {
     "data": {
      "text/html": [
       "<div>\n",
       "<style scoped>\n",
       "    .dataframe tbody tr th:only-of-type {\n",
       "        vertical-align: middle;\n",
       "    }\n",
       "\n",
       "    .dataframe tbody tr th {\n",
       "        vertical-align: top;\n",
       "    }\n",
       "\n",
       "    .dataframe thead th {\n",
       "        text-align: right;\n",
       "    }\n",
       "</style>\n",
       "<table border=\"1\" class=\"dataframe\">\n",
       "  <thead>\n",
       "    <tr style=\"text-align: right;\">\n",
       "      <th></th>\n",
       "      <th>City_ID</th>\n",
       "      <th>Country</th>\n",
       "      <th>Max Temp</th>\n",
       "      <th>Current Description</th>\n",
       "      <th>Lat</th>\n",
       "      <th>Lng</th>\n",
       "      <th>Hotel Name</th>\n",
       "    </tr>\n",
       "  </thead>\n",
       "  <tbody>\n",
       "    <tr>\n",
       "      <th>0</th>\n",
       "      <td>Boston</td>\n",
       "      <td>US</td>\n",
       "      <td>71.55</td>\n",
       "      <td>scattered clouds</td>\n",
       "      <td>42.3584</td>\n",
       "      <td>-71.0598</td>\n",
       "      <td>Kimpton Nine Zero Hotel</td>\n",
       "    </tr>\n",
       "    <tr>\n",
       "      <th>1</th>\n",
       "      <td>New York</td>\n",
       "      <td>US</td>\n",
       "      <td>75.76</td>\n",
       "      <td>scattered clouds</td>\n",
       "      <td>40.7143</td>\n",
       "      <td>-74.0060</td>\n",
       "      <td>Duane Street Hotel</td>\n",
       "    </tr>\n",
       "    <tr>\n",
       "      <th>2</th>\n",
       "      <td>Bethesda</td>\n",
       "      <td>US</td>\n",
       "      <td>74.17</td>\n",
       "      <td>scattered clouds</td>\n",
       "      <td>38.9807</td>\n",
       "      <td>-77.1003</td>\n",
       "      <td>Hyatt Regency Bethesda</td>\n",
       "    </tr>\n",
       "    <tr>\n",
       "      <th>3</th>\n",
       "      <td>Chicago</td>\n",
       "      <td>US</td>\n",
       "      <td>74.03</td>\n",
       "      <td>scattered clouds</td>\n",
       "      <td>41.8500</td>\n",
       "      <td>-87.6500</td>\n",
       "      <td>Chinatown Hotel</td>\n",
       "    </tr>\n",
       "  </tbody>\n",
       "</table>\n",
       "</div>"
      ],
      "text/plain": [
       "    City_ID Country  Max Temp Current Description      Lat      Lng  \\\n",
       "0    Boston      US     71.55    scattered clouds  42.3584 -71.0598   \n",
       "1  New York      US     75.76    scattered clouds  40.7143 -74.0060   \n",
       "2  Bethesda      US     74.17    scattered clouds  38.9807 -77.1003   \n",
       "3   Chicago      US     74.03    scattered clouds  41.8500 -87.6500   \n",
       "\n",
       "                Hotel Name  \n",
       "0  Kimpton Nine Zero Hotel  \n",
       "1       Duane Street Hotel  \n",
       "2   Hyatt Regency Bethesda  \n",
       "3          Chinatown Hotel  "
      ]
     },
     "execution_count": 94,
     "metadata": {},
     "output_type": "execute_result"
    }
   ],
   "source": [
    "# 8. To create a marker layer map between the four cities.\n",
    "#  Combine the four city DataFrames into one DataFrame using the concat() function.\n",
    "itinerary_df = pd.concat([vacation_start, vacation_stop1, vacation_stop2, vacation_stop3],ignore_index=True)\n",
    "itinerary_df"
   ]
  },
  {
   "cell_type": "code",
   "execution_count": 95,
   "metadata": {},
   "outputs": [],
   "source": [
    "# 9 Using the template add city name, the country code, the weather description and maximum temperature for the city. \n",
    "info_box_template = get_info_box_template()\n",
    "\n",
    "# 10a Get the data from each row and add it to the formatting template and store the data in a list.\n",
    "hotel_info = [info_box_template.format(**row) for index, row in itinerary_df.iterrows()]\n",
    "\n",
    "# 10b. Get the latitude and longitude from each row and store in a new DataFrame.\n",
    "locations = itinerary_df[[\"Lat\", \"Lng\"]]"
   ]
  },
  {
   "cell_type": "code",
   "execution_count": 96,
   "metadata": {},
   "outputs": [
    {
     "data": {
      "application/vnd.jupyter.widget-view+json": {
       "model_id": "792ee443e359496888fb58293d353400",
       "version_major": 2,
       "version_minor": 0
      },
      "text/plain": [
       "Figure(layout=FigureLayout(height='420px'))"
      ]
     },
     "metadata": {},
     "output_type": "display_data"
    }
   ],
   "source": [
    "# 11a. Add a marker layer for each city to the map.\n",
    "fig = gmaps.figure()\n",
    "\n",
    "marker_layer = gmaps.marker_layer(locations, info_box_content=hotel_info)\n",
    "fig.add_layer(marker_layer)\n",
    "\n",
    "# 11b. Display the figure\n",
    "fig"
   ]
  },
  {
   "cell_type": "code",
   "execution_count": null,
   "metadata": {},
   "outputs": [],
   "source": []
  }
 ],
 "metadata": {
  "kernelspec": {
   "display_name": "PythonData",
   "language": "python",
   "name": "pythondata"
  },
  "language_info": {
   "codemirror_mode": {
    "name": "ipython",
    "version": 3
   },
   "file_extension": ".py",
   "mimetype": "text/x-python",
   "name": "python",
   "nbconvert_exporter": "python",
   "pygments_lexer": "ipython3",
   "version": "3.7.11"
  },
  "latex_envs": {
   "LaTeX_envs_menu_present": true,
   "autoclose": false,
   "autocomplete": true,
   "bibliofile": "biblio.bib",
   "cite_by": "apalike",
   "current_citInitial": 1,
   "eqLabelWithNumbers": true,
   "eqNumInitial": 1,
   "hotkeys": {
    "equation": "Ctrl-E",
    "itemize": "Ctrl-I"
   },
   "labels_anchors": false,
   "latex_user_defs": false,
   "report_style_numbering": false,
   "user_envs_cfg": false
  }
 },
 "nbformat": 4,
 "nbformat_minor": 4
}
